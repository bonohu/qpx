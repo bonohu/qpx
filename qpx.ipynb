{
 "cells": [
  {
   "cell_type": "markdown",
   "id": "d43382ac",
   "metadata": {},
   "source": [
    "# About\n",
    "\n",
    "本ノートブックは、以下の機能を提供します\n",
    "\n",
    "- ./gpml フォルダに配置されている GPML ファイルに記載されたパスウェイを可視化\n",
    "- パスウェイ上の遺伝子（ノード）が選択された際に、その遺伝子に関する情報と、発現データを表示\n",
    "  - ノードの選択は、クリック以外に Shift+ドラッグによる範囲選択や、Ctrl+クリックによる複数選択が可能（Mac の場合は Cmd+クリック）\n",
    "- 遺伝子テーブル上での遺伝子情報の検索と選択\n"
   ]
  },
  {
   "cell_type": "code",
   "execution_count": null,
   "id": "3081261c",
   "metadata": {},
   "outputs": [],
   "source": [
    "# 発現情報が記述されたTSVファイルを指定\n",
    "expression_data_path = 'data/Bmori_expression_transcript_matrix_repl-symb-with-geneid.txt'"
   ]
  },
  {
   "cell_type": "markdown",
   "id": "ae6f137c",
   "metadata": {},
   "source": [
    "**以下のセルは、モジュールの可視化のために必要なので編集しないでください。**\n"
   ]
  },
  {
   "cell_type": "code",
   "execution_count": null,
   "id": "5c592c56",
   "metadata": {},
   "outputs": [],
   "source": [
    "%%HTML\n",
    "<script src=\"src/templates/pathway_d3_view_widget.js\"></script>\n",
    "<script src=\"src/templates/heatmap_view_widget.js\"></script>\n",
    "<link rel=\"stylesheet\" type=\"text/css\" href=\"https://cdn.datatables.net/2.1.6/css/dataTables.dataTables.min.css\"/>"
   ]
  },
  {
   "cell_type": "code",
   "execution_count": null,
   "id": "202a7ce5",
   "metadata": {},
   "outputs": [],
   "source": [
    "# このセルを実行すると、GPMLに記述されたパスウェイが可視化されます。GPMLファイルを変更することで、別のパスウェイを可視化することもできます。\n",
    "# expression_columns_indexより後の列だけが、発現量テーブル上でハイライトされます。\n",
    "from src.qp import GpmlD3Visualizer\n",
    "\n",
    "\n",
    "visualizer = GpmlD3Visualizer(expression_data_path=expression_data_path, expression_columns_index=4)\n",
    "visualizer.show()"
   ]
  },
  {
   "cell_type": "markdown",
   "id": "203f6b27",
   "metadata": {},
   "source": [
    "選択した遺伝子に関する情報は、visualizer_widget.selected_expression_data を参照することでデータフレームとして取得できます\n"
   ]
  },
  {
   "cell_type": "code",
   "execution_count": null,
   "id": "46e6fd53",
   "metadata": {},
   "outputs": [],
   "source": [
    "df = visualizer.selected_expression_data\n",
    "df"
   ]
  },
  {
   "cell_type": "code",
   "execution_count": null,
   "id": "783378b1",
   "metadata": {},
   "outputs": [],
   "source": []
  }
 ],
 "metadata": {
  "kernelspec": {
   "display_name": "Python 3 (ipykernel)",
   "language": "python",
   "name": "python3"
  },
  "language_info": {
   "codemirror_mode": {
    "name": "ipython",
    "version": 3
   },
   "file_extension": ".py",
   "mimetype": "text/x-python",
   "name": "python",
   "nbconvert_exporter": "python",
   "pygments_lexer": "ipython3"
  }
 },
 "nbformat": 4,
 "nbformat_minor": 5
}

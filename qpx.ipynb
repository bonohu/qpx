{
 "cells": [
  {
   "cell_type": "markdown",
   "id": "d43382ac",
   "metadata": {},
   "source": [
    "# About\n",
    "\n",
    "This notebook provides the following features\n",
    "\n",
    "- Visualisation of pathways described in GPML files located in the /gpml folder.\n",
    "- When a gene (node) on a pathway is selected, information about the gene and its expression data are displayed.\n",
    "  - Nodes can be selected by Shift+dragging, Ctrl+clicking or multiple selection (Cmd+clicking on Mac).\n",
    "- Searching and selecting gene information on the gene table\n"
   ]
  },
  {
   "cell_type": "code",
   "execution_count": null,
   "id": "3081261c",
   "metadata": {},
   "outputs": [],
   "source": [
    "# Specify the path of the TSV file in which the expression information is described.\n",
    "expression_data_path = 'data/Bmori_transcripts_expression-data_v02-modified.tsv'"
   ]
  },
  {
   "cell_type": "markdown",
   "id": "ae6f137c",
   "metadata": {},
   "source": [
    "**Do not edit the following cells as they are required for module visualisation.**\n"
   ]
  },
  {
   "cell_type": "code",
   "execution_count": null,
   "id": "5c592c56",
   "metadata": {},
   "outputs": [],
   "source": [
    "%%HTML\n",
    "<script src=\"src/templates/pathway_d3_view_widget.js\"></script>\n",
    "<script src=\"src/templates/heatmap_view_widget.js\"></script>\n",
    "<link rel=\"stylesheet\" type=\"text/css\" href=\"https://cdn.datatables.net/2.1.6/css/dataTables.dataTables.min.css\"/>"
   ]
  },
  {
   "cell_type": "code",
   "execution_count": null,
   "id": "202a7ce5",
   "metadata": {},
   "outputs": [],
   "source": [
    "# Running this cell will visualise the pathways described in the GPML; you can also visualise different pathways by modifying the GPML file.\n",
    "# The columns after the ‘expression_columns_index’ parameter of the GpmlD3Visualizer described in the cell are coloured in the table as a heatmap of expression levels.\n",
    "from src.qp import GpmlD3Visualizer\n",
    "\n",
    "visualizer = GpmlD3Visualizer(expression_data_path=expression_data_path, expression_columns_index=3)\n",
    "visualizer.show()"
   ]
  },
  {
   "cell_type": "markdown",
   "id": "203f6b27",
   "metadata": {},
   "source": [
    "Information about the selected genes can be retrieved as a data frame by referring to visualizer_widget.selected_expression_data."
   ]
  },
  {
   "cell_type": "code",
   "execution_count": null,
   "id": "46e6fd53",
   "metadata": {},
   "outputs": [],
   "source": [
    "df = visualizer.selected_expression_data\n",
    "df"
   ]
  },
  {
   "cell_type": "code",
   "execution_count": null,
   "id": "783378b1",
   "metadata": {},
   "outputs": [],
   "source": []
  }
 ],
 "metadata": {
  "kernelspec": {
   "display_name": "Python 3 (ipykernel)",
   "language": "python",
   "name": "python3"
  },
  "language_info": {
   "codemirror_mode": {
    "name": "ipython",
    "version": 3
   },
   "file_extension": ".py",
   "mimetype": "text/x-python",
   "name": "python",
   "nbconvert_exporter": "python",
   "pygments_lexer": "ipython3",
   "version": "3.11.6"
  }
 },
 "nbformat": 4,
 "nbformat_minor": 5
}

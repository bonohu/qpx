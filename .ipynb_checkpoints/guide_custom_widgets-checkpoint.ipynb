{
 "cells": [
  {
   "cell_type": "markdown",
   "id": "invisible-alabama",
   "metadata": {},
   "source": [
    "# Custom widgets"
   ]
  },
  {
   "cell_type": "markdown",
   "id": "fantastic-garage",
   "metadata": {},
   "source": [
    "This guide shows how to create custom widgets with the [IPySimulate](https://ipysimulate.readthedocs.io/) package."
   ]
  },
  {
   "cell_type": "code",
   "execution_count": 5,
   "id": "patent-burlington",
   "metadata": {},
   "outputs": [],
   "source": [
    "import agentpy as ap\n",
    "import ipysimulate as ips\n",
    "import ipywidgets as widgets"
   ]
  },
  {
   "cell_type": "markdown",
   "id": "exciting-roman",
   "metadata": {},
   "source": [
    "The source code for custom widgets is written with javascript functions.  \n",
    "\n",
    "These functions can acess the widget's current view and model with `view` and `view.model`. The visible cell can be accessed with `view.el`. To learn more about widget views and models in Jupyter, visit [ipywidgets](https://ipywidgets.readthedocs.io/en/stable/examples/Widget%20Low%20Level.html).\n",
    "\n",
    "Functions can further acess the D3js library with `d3` that provides very useful tools for data visualization. To learn more about D3js, go to https://d3js.org/. Finally, configuration data can be accessed with `view.model.config`.\n",
    "\n",
    "To start, we define a dictionary in which the javascript functions will be placed as strings."
   ]
  },
  {
   "cell_type": "code",
   "execution_count": 6,
   "id": "defined-football",
   "metadata": {},
   "outputs": [],
   "source": [
    "source = {}"
   ]
  },
  {
   "cell_type": "markdown",
   "id": "changing-badge",
   "metadata": {},
   "source": [
    "The first function is `setup`, which is called only once when the widget is first rendered.\n",
    "The code is adapted from Mike Bostock's example for [Modifying a Force Layout](https://bl.ocks.org/mbostock/1095795) and displays a set of loose nodes within a force layout."
   ]
  },
  {
   "cell_type": "code",
   "execution_count": 7,
   "id": "welsh-proxy",
   "metadata": {},
   "outputs": [],
   "source": [
    "source['setup'] = \"\"\"\n",
    "// Append a div container to outline the chart\n",
    "\n",
    "var container = document.createElement(\"div\");\n",
    "container.className = 'ipysimulate-chart'\n",
    "view.el.appendChild(container);\n",
    "\n",
    "// Create a svg canvas\n",
    "\n",
    "var svg = d3.select(container).append(\"svg\")\n",
    "    .attr(\"style\", \"width: 100%; height: 100%\")\n",
    "    .attr(\"viewBox\", [0, 0, 100, 100])\n",
    "    .append(\"g\");\n",
    "var g = svg.append(\"g\")\n",
    "    .attr(\"transform\", \"translate(\" + 50 + \",\" + 50 + \")\");\n",
    "var node = g.append(\"g\")\n",
    "    .attr(\"stroke\", \"#fff\")\n",
    "    .attr(\"stroke-width\", 1.5)\n",
    "    .selectAll(\".node\");\n",
    "\n",
    "// Prepare simulation\n",
    "\n",
    "view.nodes = [];\n",
    "\n",
    "var simulation = d3.forceSimulation(view.nodes)\n",
    "    .force(\"charge\", d3.forceManyBody().strength(-5))\n",
    "    .force(\"x\", d3.forceX())\n",
    "    .force(\"y\", d3.forceY())\n",
    "    .alphaTarget(1)\n",
    "    .on(\"tick\", ticked);\n",
    "    \n",
    "function ticked() {\n",
    "  node.attr(\"cx\", function(d) { return d.x; })\n",
    "      .attr(\"cy\", function(d) { return d.y; })\n",
    "}\n",
    "\n",
    "// Function to restart the simulation with new nodes\n",
    "\n",
    "color = d3.scaleOrdinal(d3.schemeSet3);\n",
    "view.draw_nodes = function() {\n",
    "  \n",
    "  let nodes = view.nodes\n",
    "  \n",
    "  // Apply the general update pattern to the nodes.\n",
    "  node = node.data(nodes, function(d) {return d.id;});\n",
    "  node.exit().remove();\n",
    "  node = node.enter().append(\"circle\")\n",
    "      // Decide color based on current time-step t\n",
    "      .attr(\"fill\", function(d) { return color(d.t); })  \n",
    "      .attr(\"r\", view.model.config['radius'])\n",
    "      .merge(node);\n",
    "\n",
    "  // Update and restart the simulation.\n",
    "  simulation.nodes(nodes);\n",
    "  simulation.alpha(1).restart();\n",
    "}\n",
    "\n",
    "view.draw_nodes();\n",
    "\"\"\""
   ]
  },
  {
   "cell_type": "markdown",
   "id": "sensitive-canadian",
   "metadata": {},
   "source": [
    "We now add a second function `update` that is called every time new simulation data is synched. The passed data can be accessed as `data`. We will late define the data object to contain an entry `t` with the current time-step."
   ]
  },
  {
   "cell_type": "code",
   "execution_count": 8,
   "id": "logical-vermont",
   "metadata": {},
   "outputs": [],
   "source": [
    "source['update'] = \"\"\"\n",
    "// Create node out of new data\n",
    "view.nodes.push(data)\n",
    "view.draw_nodes()\n",
    "\"\"\""
   ]
  },
  {
   "cell_type": "markdown",
   "id": "local-electricity",
   "metadata": {},
   "source": [
    "Finally, the `reset` function can be used to clear stored data when the simulation is reset."
   ]
  },
  {
   "cell_type": "code",
   "execution_count": 9,
   "id": "maritime-benefit",
   "metadata": {},
   "outputs": [],
   "source": [
    "source['reset'] = \"\"\"\n",
    "view.nodes = [];\n",
    "\"\"\""
   ]
  },
  {
   "cell_type": "markdown",
   "id": "collectible-treasurer",
   "metadata": {},
   "source": [
    "We now prepare an empty model using the [AgentPy](https://agentpy.readthedocs.io/) package. Without any custom modifications, this model will simply increase it's time-step `t` at every simulation step."
   ]
  },
  {
   "cell_type": "code",
   "execution_count": 10,
   "id": "synthetic-granny",
   "metadata": {},
   "outputs": [],
   "source": [
    "model = ap.Model()"
   ]
  },
  {
   "cell_type": "markdown",
   "id": "aging-nurse",
   "metadata": {},
   "source": [
    "Next, we set up the IPySimulate `Control` widget with a slider for the frame-rate (fps) and a display of the current time-step `t`. "
   ]
  },
  {
   "cell_type": "code",
   "execution_count": 11,
   "id": "egyptian-nightmare",
   "metadata": {},
   "outputs": [],
   "source": [
    "parameters = {'fps': ap.IntRange(1, 10, 5),}\n",
    "control = ips.Control(model, parameters, variables=('t'))"
   ]
  },
  {
   "cell_type": "markdown",
   "id": "chinese-lobby",
   "metadata": {},
   "source": [
    "Now we can finally set up our custom widget, using `CustomWidget` to which we pass our control widget and source code for visualization. We further define a data collector that will retrieve the time-step `t` from the model."
   ]
  },
  {
   "cell_type": "code",
   "execution_count": 12,
   "id": "dramatic-prisoner",
   "metadata": {},
   "outputs": [],
   "source": [
    "my_custom_widget = ips.CustomWidget(\n",
    "    control, \n",
    "    source=source,\n",
    "    config={'radius': 3},\n",
    "    data={'t': 't'}\n",
    ")"
   ]
  },
  {
   "cell_type": "markdown",
   "id": "inner-output",
   "metadata": {},
   "source": [
    "To display both our control and custom widget, we can use the classic `AppLayout` widget. To learn more about widget layouts, visit the ipywidgets [documentation](https://ipywidgets.readthedocs.io/en/stable/examples/Layout%20Templates.html)."
   ]
  },
  {
   "cell_type": "code",
   "execution_count": 13,
   "id": "naval-alfred",
   "metadata": {},
   "outputs": [
    {
     "data": {
      "application/vnd.jupyter.widget-view+json": {
       "model_id": "b209d58309744e8db75abb458acffeaa",
       "version_major": 2,
       "version_minor": 0
      },
      "text/plain": [
       "AppLayout(children=(Control(layout=Layout(grid_area='left-sidebar'), parameters={'fps': 5}), CustomWidget(conf…"
      ]
     },
     "execution_count": 13,
     "metadata": {},
     "output_type": "execute_result"
    }
   ],
   "source": [
    "widgets.AppLayout(\n",
    "    left_sidebar=control,\n",
    "    center=my_custom_widget,\n",
    "    pane_widths=['125px', 1, 1], \n",
    "    height='500px'\n",
    ")"
   ]
  },
  {
   "cell_type": "markdown",
   "id": "useful-board",
   "metadata": {},
   "source": [
    "Note that the interactive simulation will not be visible if this tutorial is viewed within the IPySimulate documentation, but must be opened as a Jupyter Notebook (link at the top). \n",
    "\n",
    "Here is a short recording of the interactive output:"
   ]
  },
  {
   "cell_type": "markdown",
   "id": "electoral-convention",
   "metadata": {},
   "source": [
    "![Recording of interactive simulation](custom_widget.gif)"
   ]
  },
  {
   "cell_type": "code",
   "execution_count": 2,
   "id": "6ecea8f1-21f1-4575-ad3f-1858b657c0af",
   "metadata": {},
   "outputs": [
    {
     "name": "stdout",
     "output_type": "stream",
     "text": [
      "Collecting ipysimulate\n",
      "  Downloading ipysimulate-0.2.1-py2.py3-none-any.whl (511 kB)\n",
      "\u001b[2K     \u001b[90m━━━━━━━━━━━━━━━━━━━━━━━━━━━━━━━━━━━━━━━\u001b[0m \u001b[32m511.1/511.1 KB\u001b[0m \u001b[31m4.4 MB/s\u001b[0m eta \u001b[36m0:00:00\u001b[0ma \u001b[36m0:00:01\u001b[0m\n",
      "\u001b[?25hRequirement already satisfied: ipywidgets>=7.6.0 in /Users/oec/.pyenv/versions/3.9.16/envs/d3-note/lib/python3.9/site-packages (from ipysimulate) (8.1.1)\n",
      "Requirement already satisfied: jupyterlab-widgets~=3.0.9 in /Users/oec/.pyenv/versions/3.9.16/envs/d3-note/lib/python3.9/site-packages (from ipywidgets>=7.6.0->ipysimulate) (3.0.9)\n",
      "Requirement already satisfied: widgetsnbextension~=4.0.9 in /Users/oec/.pyenv/versions/3.9.16/envs/d3-note/lib/python3.9/site-packages (from ipywidgets>=7.6.0->ipysimulate) (4.0.9)\n",
      "Requirement already satisfied: traitlets>=4.3.1 in /Users/oec/.pyenv/versions/3.9.16/envs/d3-note/lib/python3.9/site-packages (from ipywidgets>=7.6.0->ipysimulate) (5.12.0)\n",
      "Requirement already satisfied: ipython>=6.1.0 in /Users/oec/.pyenv/versions/3.9.16/envs/d3-note/lib/python3.9/site-packages (from ipywidgets>=7.6.0->ipysimulate) (8.16.1)\n",
      "Requirement already satisfied: comm>=0.1.3 in /Users/oec/.pyenv/versions/3.9.16/envs/d3-note/lib/python3.9/site-packages (from ipywidgets>=7.6.0->ipysimulate) (0.1.4)\n",
      "Requirement already satisfied: typing-extensions in /Users/oec/.pyenv/versions/3.9.16/envs/d3-note/lib/python3.9/site-packages (from ipython>=6.1.0->ipywidgets>=7.6.0->ipysimulate) (4.8.0)\n",
      "Requirement already satisfied: pexpect>4.3 in /Users/oec/.pyenv/versions/3.9.16/envs/d3-note/lib/python3.9/site-packages (from ipython>=6.1.0->ipywidgets>=7.6.0->ipysimulate) (4.8.0)\n",
      "Requirement already satisfied: decorator in /Users/oec/.pyenv/versions/3.9.16/envs/d3-note/lib/python3.9/site-packages (from ipython>=6.1.0->ipywidgets>=7.6.0->ipysimulate) (5.1.1)\n",
      "Requirement already satisfied: exceptiongroup in /Users/oec/.pyenv/versions/3.9.16/envs/d3-note/lib/python3.9/site-packages (from ipython>=6.1.0->ipywidgets>=7.6.0->ipysimulate) (1.1.3)\n",
      "Requirement already satisfied: stack-data in /Users/oec/.pyenv/versions/3.9.16/envs/d3-note/lib/python3.9/site-packages (from ipython>=6.1.0->ipywidgets>=7.6.0->ipysimulate) (0.6.3)\n",
      "Requirement already satisfied: appnope in /Users/oec/.pyenv/versions/3.9.16/envs/d3-note/lib/python3.9/site-packages (from ipython>=6.1.0->ipywidgets>=7.6.0->ipysimulate) (0.1.3)\n",
      "Requirement already satisfied: matplotlib-inline in /Users/oec/.pyenv/versions/3.9.16/envs/d3-note/lib/python3.9/site-packages (from ipython>=6.1.0->ipywidgets>=7.6.0->ipysimulate) (0.1.6)\n",
      "Requirement already satisfied: prompt-toolkit!=3.0.37,<3.1.0,>=3.0.30 in /Users/oec/.pyenv/versions/3.9.16/envs/d3-note/lib/python3.9/site-packages (from ipython>=6.1.0->ipywidgets>=7.6.0->ipysimulate) (3.0.39)\n",
      "Requirement already satisfied: pickleshare in /Users/oec/.pyenv/versions/3.9.16/envs/d3-note/lib/python3.9/site-packages (from ipython>=6.1.0->ipywidgets>=7.6.0->ipysimulate) (0.7.5)\n",
      "Requirement already satisfied: jedi>=0.16 in /Users/oec/.pyenv/versions/3.9.16/envs/d3-note/lib/python3.9/site-packages (from ipython>=6.1.0->ipywidgets>=7.6.0->ipysimulate) (0.19.1)\n",
      "Requirement already satisfied: backcall in /Users/oec/.pyenv/versions/3.9.16/envs/d3-note/lib/python3.9/site-packages (from ipython>=6.1.0->ipywidgets>=7.6.0->ipysimulate) (0.2.0)\n",
      "Requirement already satisfied: pygments>=2.4.0 in /Users/oec/.pyenv/versions/3.9.16/envs/d3-note/lib/python3.9/site-packages (from ipython>=6.1.0->ipywidgets>=7.6.0->ipysimulate) (2.16.1)\n",
      "Requirement already satisfied: parso<0.9.0,>=0.8.3 in /Users/oec/.pyenv/versions/3.9.16/envs/d3-note/lib/python3.9/site-packages (from jedi>=0.16->ipython>=6.1.0->ipywidgets>=7.6.0->ipysimulate) (0.8.3)\n",
      "Requirement already satisfied: ptyprocess>=0.5 in /Users/oec/.pyenv/versions/3.9.16/envs/d3-note/lib/python3.9/site-packages (from pexpect>4.3->ipython>=6.1.0->ipywidgets>=7.6.0->ipysimulate) (0.7.0)\n",
      "Requirement already satisfied: wcwidth in /Users/oec/.pyenv/versions/3.9.16/envs/d3-note/lib/python3.9/site-packages (from prompt-toolkit!=3.0.37,<3.1.0,>=3.0.30->ipython>=6.1.0->ipywidgets>=7.6.0->ipysimulate) (0.2.8)\n",
      "Requirement already satisfied: executing>=1.2.0 in /Users/oec/.pyenv/versions/3.9.16/envs/d3-note/lib/python3.9/site-packages (from stack-data->ipython>=6.1.0->ipywidgets>=7.6.0->ipysimulate) (2.0.0)\n",
      "Requirement already satisfied: pure-eval in /Users/oec/.pyenv/versions/3.9.16/envs/d3-note/lib/python3.9/site-packages (from stack-data->ipython>=6.1.0->ipywidgets>=7.6.0->ipysimulate) (0.2.2)\n",
      "Requirement already satisfied: asttokens>=2.1.0 in /Users/oec/.pyenv/versions/3.9.16/envs/d3-note/lib/python3.9/site-packages (from stack-data->ipython>=6.1.0->ipywidgets>=7.6.0->ipysimulate) (2.4.0)\n",
      "Requirement already satisfied: six>=1.12.0 in /Users/oec/.pyenv/versions/3.9.16/envs/d3-note/lib/python3.9/site-packages (from asttokens>=2.1.0->stack-data->ipython>=6.1.0->ipywidgets>=7.6.0->ipysimulate) (1.16.0)\n",
      "Installing collected packages: ipysimulate\n",
      "Successfully installed ipysimulate-0.2.1\n",
      "\u001b[33mWARNING: You are using pip version 22.0.4; however, version 23.3.1 is available.\n",
      "You should consider upgrading via the '/Users/oec/.pyenv/versions/3.9.16/envs/d3-note/bin/python3.9 -m pip install --upgrade pip' command.\u001b[0m\u001b[33m\n",
      "\u001b[0m"
     ]
    }
   ],
   "source": [
    "!pip install ipysimulate"
   ]
  },
  {
   "cell_type": "code",
   "execution_count": 4,
   "id": "219f5359-5ce3-4eb4-89b5-45eb3a033ee3",
   "metadata": {},
   "outputs": [
    {
     "name": "stdout",
     "output_type": "stream",
     "text": [
      "Collecting agentpy\n",
      "  Downloading agentpy-0.1.5-py3-none-any.whl (53 kB)\n",
      "\u001b[2K     \u001b[90m━━━━━━━━━━━━━━━━━━━━━━━━━━━━━━━━━━━━━━━━\u001b[0m \u001b[32m53.9/53.9 KB\u001b[0m \u001b[31m1.1 MB/s\u001b[0m eta \u001b[36m0:00:00\u001b[0ma \u001b[36m0:00:01\u001b[0m\n",
      "\u001b[?25hRequirement already satisfied: numpy>=1.19 in /Users/oec/.pyenv/versions/3.9.16/envs/d3-note/lib/python3.9/site-packages (from agentpy) (1.26.1)\n",
      "Requirement already satisfied: pandas>=1.1.3 in /Users/oec/.pyenv/versions/3.9.16/envs/d3-note/lib/python3.9/site-packages (from agentpy) (2.1.1)\n",
      "Collecting matplotlib>=3.3.3\n",
      "  Downloading matplotlib-3.8.0-cp39-cp39-macosx_10_12_x86_64.whl (7.6 MB)\n",
      "\u001b[2K     \u001b[90m━━━━━━━━━━━━━━━━━━━━━━━━━━━━━━━━━━━━━━━━\u001b[0m \u001b[32m7.6/7.6 MB\u001b[0m \u001b[31m6.3 MB/s\u001b[0m eta \u001b[36m0:00:00\u001b[0m00:01\u001b[0m00:01\u001b[0m\n",
      "\u001b[?25hCollecting joblib>=1.1.0\n",
      "  Downloading joblib-1.3.2-py3-none-any.whl (302 kB)\n",
      "\u001b[2K     \u001b[90m━━━━━━━━━━━━━━━━━━━━━━━━━━━━━━━━━━━━━━━\u001b[0m \u001b[32m302.2/302.2 KB\u001b[0m \u001b[31m5.1 MB/s\u001b[0m eta \u001b[36m0:00:00\u001b[0m00:01\u001b[0m\n",
      "\u001b[?25hCollecting SALib>=1.3.7\n",
      "  Downloading salib-1.4.7-py3-none-any.whl (757 kB)\n",
      "\u001b[2K     \u001b[90m━━━━━━━━━━━━━━━━━━━━━━━━━━━━━━━━━━━━━━━\u001b[0m \u001b[32m758.0/758.0 KB\u001b[0m \u001b[31m7.4 MB/s\u001b[0m eta \u001b[36m0:00:00\u001b[0m00:01\u001b[0m00:01\u001b[0m\n",
      "\u001b[?25hCollecting scipy>=1.5.2\n",
      "  Downloading scipy-1.11.3-cp39-cp39-macosx_10_9_x86_64.whl (37.3 MB)\n",
      "\u001b[2K     \u001b[90m━━━━━━━━━━━━━━━━━━━━━━━━━━━━━━━━━━━━━━━━\u001b[0m \u001b[32m37.3/37.3 MB\u001b[0m \u001b[31m4.3 MB/s\u001b[0m eta \u001b[36m0:00:00\u001b[0m00:01\u001b[0m00:01\u001b[0m\n",
      "\u001b[?25hCollecting networkx>=2.5\n",
      "  Downloading networkx-3.2.1-py3-none-any.whl (1.6 MB)\n",
      "\u001b[2K     \u001b[90m━━━━━━━━━━━━━━━━━━━━━━━━━━━━━━━━━━━━━━━━\u001b[0m \u001b[32m1.6/1.6 MB\u001b[0m \u001b[31m5.4 MB/s\u001b[0m eta \u001b[36m0:00:00\u001b[0m00:01\u001b[0m00:01\u001b[0m\n",
      "\u001b[?25hRequirement already satisfied: packaging>=20.0 in /Users/oec/.pyenv/versions/3.9.16/envs/d3-note/lib/python3.9/site-packages (from matplotlib>=3.3.3->agentpy) (23.2)\n",
      "Collecting fonttools>=4.22.0\n",
      "  Downloading fonttools-4.43.1-cp39-cp39-macosx_10_9_x86_64.whl (2.2 MB)\n",
      "\u001b[2K     \u001b[90m━━━━━━━━━━━━━━━━━━━━━━━━━━━━━━━━━━━━━━━━\u001b[0m \u001b[32m2.2/2.2 MB\u001b[0m \u001b[31m6.1 MB/s\u001b[0m eta \u001b[36m0:00:00\u001b[0m00:01\u001b[0m00:01\u001b[0m\n",
      "\u001b[?25hCollecting importlib-resources>=3.2.0\n",
      "  Downloading importlib_resources-6.1.0-py3-none-any.whl (33 kB)\n",
      "Collecting pillow>=6.2.0\n",
      "  Downloading Pillow-10.1.0-cp39-cp39-macosx_10_10_x86_64.whl (3.5 MB)\n",
      "\u001b[2K     \u001b[90m━━━━━━━━━━━━━━━━━━━━━━━━━━━━━━━━━━━━━━━━\u001b[0m \u001b[32m3.5/3.5 MB\u001b[0m \u001b[31m4.2 MB/s\u001b[0m eta \u001b[36m0:00:00\u001b[0m00:01\u001b[0m00:01\u001b[0m\n",
      "\u001b[?25hRequirement already satisfied: python-dateutil>=2.7 in /Users/oec/.pyenv/versions/3.9.16/envs/d3-note/lib/python3.9/site-packages (from matplotlib>=3.3.3->agentpy) (2.8.2)\n",
      "Collecting pyparsing>=2.3.1\n",
      "  Using cached pyparsing-3.1.1-py3-none-any.whl (103 kB)\n",
      "Collecting kiwisolver>=1.0.1\n",
      "  Using cached kiwisolver-1.4.5-cp39-cp39-macosx_10_9_x86_64.whl (68 kB)\n",
      "Collecting contourpy>=1.0.1\n",
      "  Using cached contourpy-1.1.1-cp39-cp39-macosx_10_9_x86_64.whl (247 kB)\n",
      "Collecting cycler>=0.10\n",
      "  Downloading cycler-0.12.1-py3-none-any.whl (8.3 kB)\n",
      "Requirement already satisfied: tzdata>=2022.1 in /Users/oec/.pyenv/versions/3.9.16/envs/d3-note/lib/python3.9/site-packages (from pandas>=1.1.3->agentpy) (2023.3)\n",
      "Requirement already satisfied: pytz>=2020.1 in /Users/oec/.pyenv/versions/3.9.16/envs/d3-note/lib/python3.9/site-packages (from pandas>=1.1.3->agentpy) (2023.3.post1)\n",
      "Collecting multiprocess\n",
      "  Downloading multiprocess-0.70.15-py39-none-any.whl (133 kB)\n",
      "\u001b[2K     \u001b[90m━━━━━━━━━━━━━━━━━━━━━━━━━━━━━━━━━━━━━━━\u001b[0m \u001b[32m133.3/133.3 KB\u001b[0m \u001b[31m2.3 MB/s\u001b[0m eta \u001b[36m0:00:00\u001b[0m00:01\u001b[0m\n",
      "\u001b[?25hRequirement already satisfied: zipp>=3.1.0 in /Users/oec/.pyenv/versions/3.9.16/envs/d3-note/lib/python3.9/site-packages (from importlib-resources>=3.2.0->matplotlib>=3.3.3->agentpy) (3.17.0)\n",
      "Requirement already satisfied: six>=1.5 in /Users/oec/.pyenv/versions/3.9.16/envs/d3-note/lib/python3.9/site-packages (from python-dateutil>=2.7->matplotlib>=3.3.3->agentpy) (1.16.0)\n",
      "Collecting dill>=0.3.7\n",
      "  Downloading dill-0.3.7-py3-none-any.whl (115 kB)\n",
      "\u001b[2K     \u001b[90m━━━━━━━━━━━━━━━━━━━━━━━━━━━━━━━━━━━━━━━\u001b[0m \u001b[32m115.3/115.3 KB\u001b[0m \u001b[31m2.0 MB/s\u001b[0m eta \u001b[36m0:00:00\u001b[0m00:01\u001b[0m\n",
      "\u001b[?25hInstalling collected packages: scipy, pyparsing, pillow, networkx, kiwisolver, joblib, importlib-resources, fonttools, dill, cycler, contourpy, multiprocess, matplotlib, SALib, agentpy\n",
      "Successfully installed SALib-1.4.7 agentpy-0.1.5 contourpy-1.1.1 cycler-0.12.1 dill-0.3.7 fonttools-4.43.1 importlib-resources-6.1.0 joblib-1.3.2 kiwisolver-1.4.5 matplotlib-3.8.0 multiprocess-0.70.15 networkx-3.2.1 pillow-10.1.0 pyparsing-3.1.1 scipy-1.11.3\n",
      "\u001b[33mWARNING: You are using pip version 22.0.4; however, version 23.3.1 is available.\n",
      "You should consider upgrading via the '/Users/oec/.pyenv/versions/3.9.16/envs/d3-note/bin/python3.9 -m pip install --upgrade pip' command.\u001b[0m\u001b[33m\n",
      "\u001b[0m"
     ]
    }
   ],
   "source": [
    "!pip install agentpy"
   ]
  },
  {
   "cell_type": "code",
   "execution_count": null,
   "id": "b8bcf98f-adfe-439b-a1e1-46b65da12159",
   "metadata": {},
   "outputs": [],
   "source": []
  }
 ],
 "metadata": {
  "kernelspec": {
   "display_name": "Python 3 (ipykernel)",
   "language": "python",
   "name": "python3"
  },
  "language_info": {
   "codemirror_mode": {
    "name": "ipython",
    "version": 3
   },
   "file_extension": ".py",
   "mimetype": "text/x-python",
   "name": "python",
   "nbconvert_exporter": "python",
   "pygments_lexer": "ipython3",
   "version": "3.9.16"
  }
 },
 "nbformat": 4,
 "nbformat_minor": 5
}

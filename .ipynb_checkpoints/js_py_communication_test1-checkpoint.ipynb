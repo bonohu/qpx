{
 "cells": [
  {
   "cell_type": "markdown",
   "id": "79c99e93-3716-4baa-a6b7-247fca893f52",
   "metadata": {},
   "source": [
    "- ipykernel                 6.26.0\n",
    "- ipython                   8.16.1\n",
    "- ipywidgets                8.1.1\n",
    "- notebook                  7.0.6\n",
    "- jupyterlab                4.0.7  // 使って無いが\n",
    "- Python 3.9.16"
   ]
  },
  {
   "cell_type": "code",
   "execution_count": 2,
   "id": "88770218-946c-400c-96e8-0f53f2dd589a",
   "metadata": {},
   "outputs": [
    {
     "data": {
      "text/html": [
       "\n",
       "<div style=\"background-color:gainsboro; border:solid black; width:300px; padding:20px;\">\n",
       "Variable Name: <input type=\"text\" id=\"var_name\" value=\"foo\"><br>\n",
       "Variable Value: <input type=\"text\" id=\"var_value\" value=\"bar\"><br>\n",
       "<button onclick=\"set_value()\">Set Value</button>\n",
       "</div>\n",
       "\n",
       "<script type=\"text/Javascript\">\n",
       "    function set_value(){\n",
       "        var var_name = document.getElementById('var_name').value;\n",
       "        var var_value = document.getElementById('var_value').value;\n",
       "        var command = var_name + \" = '\" + var_value + \"'\";\n",
       "        console.log(\"Executing Command: \" + command);\n",
       "        \n",
       "        var kernel = IPython.notebook.kernel;\n",
       "        kernel.execute(command);\n",
       "    }\n",
       "</script>\n"
      ],
      "text/plain": [
       "<IPython.core.display.HTML object>"
      ]
     },
     "execution_count": 2,
     "metadata": {},
     "output_type": "execute_result"
    }
   ],
   "source": [
    "from IPython.display import HTML, Javascript\n",
    "\n",
    "input_form = \"\"\"\n",
    "<div style=\"background-color:gainsboro; border:solid black; width:300px; padding:20px;\">\n",
    "Variable Name: <input type=\"text\" id=\"var_name\" value=\"foo\"><br>\n",
    "Variable Value: <input type=\"text\" id=\"var_value\" value=\"bar\"><br>\n",
    "<button onclick=\"set_value()\">Set Value</button>\n",
    "</div>\n",
    "\"\"\"\n",
    "\n",
    "javascript = \"\"\"\n",
    "<script type=\"text/Javascript\">\n",
    "    function set_value(){\n",
    "        var var_name = document.getElementById('var_name').value;\n",
    "        var var_value = document.getElementById('var_value').value;\n",
    "        var command = var_name + \" = '\" + var_value + \"'\";\n",
    "        console.log(\"Executing Command: \" + command);\n",
    "        \n",
    "        var kernel = IPython.notebook.kernel;\n",
    "        kernel.execute(command);\n",
    "    }\n",
    "</script>\n",
    "\"\"\"\n",
    "\n",
    "HTML(input_form + javascript)"
   ]
  },
  {
   "cell_type": "code",
   "execution_count": 20,
   "id": "28449967-fc7e-4471-8634-986dd34378fe",
   "metadata": {},
   "outputs": [],
   "source": [
    "def say_hello():\n",
    "    print(\"hello\")"
   ]
  },
  {
   "cell_type": "code",
   "execution_count": null,
   "id": "6218baeb-2411-48de-8431-76b0f91dd9f3",
   "metadata": {},
   "outputs": [],
   "source": [
    "!pip list\n",
    "!python --version"
   ]
  },
  {
   "cell_type": "markdown",
   "id": "305d0aa4-ba98-4fee-8180-bbffaa907f84",
   "metadata": {},
   "source": [
    "jupyter notebookはインターフェースが Jupyter Labとなり Labで動いたコード（d3.js）が同様に表示されるはずだが \"d3 is not defined\"エラーになる"
   ]
  },
  {
   "cell_type": "code",
   "execution_count": 4,
   "id": "e58362b0-44f2-48d0-a478-451b2fad1de1",
   "metadata": {},
   "outputs": [
    {
     "data": {
      "application/javascript": [
       "function call_python_fn(cmdstr){\n",
       "    return new Promise((resolve,reject) => {\n",
       "    var callbacks = {\n",
       "        iopub: {\n",
       "            output: (data) => resolve(data.content.text.trim())\n",
       "        },\n",
       "        \n",
       "        shell: {\n",
       "            reply: (data) => resolve(data.content.status)\n",
       "        }\n",
       "\n",
       "    };\n",
       "    IPython.notebook.kernel.execute(cmdstr, callbacks);\n",
       "});\n",
       "}\n",
       "\n",
       "var tmp = 2;\n",
       "call_python_fn('print('+tmp+')').then((resolve)=>alert(resolve));\n"
      ],
      "text/plain": [
       "<IPython.core.display.Javascript object>"
      ]
     },
     "metadata": {},
     "output_type": "display_data"
    }
   ],
   "source": [
    "%%javascript\n",
    "function call_python_fn(cmdstr){\n",
    "    return new Promise((resolve,reject) => {\n",
    "    var callbacks = {\n",
    "        iopub: {\n",
    "            output: (data) => resolve(data.content.text.trim())\n",
    "        },\n",
    "        \n",
    "        shell: {\n",
    "            reply: (data) => resolve(data.content.status)\n",
    "        }\n",
    "\n",
    "    };\n",
    "    IPython.notebook.kernel.execute(cmdstr, callbacks);\n",
    "});\n",
    "}\n",
    "\n",
    "var tmp = 2;\n",
    "call_python_fn('print('+tmp+')').then((resolve)=>alert(resolve));\n"
   ]
  },
  {
   "cell_type": "code",
   "execution_count": null,
   "id": "d6c90ee4-b8e7-413c-847a-cf64fe118a29",
   "metadata": {},
   "outputs": [],
   "source": [
    "!pip list\n"
   ]
  },
  {
   "cell_type": "code",
   "execution_count": null,
   "id": "5ebfc6b3-2b6b-497b-bad0-9112f6449e58",
   "metadata": {},
   "outputs": [],
   "source": []
  }
 ],
 "metadata": {
  "kernelspec": {
   "display_name": "Python 3 (ipykernel)",
   "language": "python",
   "name": "python3"
  },
  "language_info": {
   "codemirror_mode": {
    "name": "ipython",
    "version": 3
   },
   "file_extension": ".py",
   "mimetype": "text/x-python",
   "name": "python",
   "nbconvert_exporter": "python",
   "pygments_lexer": "ipython3",
   "version": "3.9.16"
  }
 },
 "nbformat": 4,
 "nbformat_minor": 5
}

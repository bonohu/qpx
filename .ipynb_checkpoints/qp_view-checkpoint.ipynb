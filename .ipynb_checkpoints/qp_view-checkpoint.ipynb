{
 "cells": [
  {
   "cell_type": "code",
   "execution_count": 67,
   "id": "8966fc7f",
   "metadata": {},
   "outputs": [
    {
     "data": {
      "text/html": [
       "<script src=\"https://d3js.org/d3.v3.js\"></script>"
      ],
      "text/plain": [
       "<IPython.core.display.HTML object>"
      ]
     },
     "execution_count": 67,
     "metadata": {},
     "output_type": "execute_result"
    }
   ],
   "source": [
    "from IPython.display import display, HTML\n",
    "from jinja2 import Environment, FileSystemLoader\n",
    "ENV = Environment(loader=FileSystemLoader(\"templates\", encoding='utf-8'))\n",
    "gid= \"\"\n",
    "col_num = 0\n",
    "def init_d3():\n",
    "    # scriptタグで記述する場合はd3.v3まで　それ以降はjsに記述が必要\n",
    "    return HTML('<script src=\"https://d3js.org/d3.v3.js\"></script>')\n",
    "\n",
    "init_d3()"
   ]
  },
  {
   "cell_type": "code",
   "execution_count": null,
   "id": "9fe904ee",
   "metadata": {
    "scrolled": false
   },
   "outputs": [],
   "source": [
    "from qp import SimpleD3\n",
    "fig = SimpleD3(env=ENV)\n",
    "HTML(fig.show())"
   ]
  },
  {
   "cell_type": "code",
   "execution_count": null,
   "id": "8de2d9f8",
   "metadata": {
    "scrolled": false
   },
   "outputs": [],
   "source": [
    "def show_table():\n",
    "    #display(gid)\n",
    "    d = fig.table(gid)\n",
    "    return d\n",
    "\n",
    "show_table()"
   ]
  }
 ],
 "metadata": {
  "kernelspec": {
   "display_name": "Python 3 (ipykernel)",
   "language": "python",
   "name": "python3"
  },
  "language_info": {
   "codemirror_mode": {
    "name": "ipython",
    "version": 3
   },
   "file_extension": ".py",
   "mimetype": "text/x-python",
   "name": "python",
   "nbconvert_exporter": "python",
   "pygments_lexer": "ipython3",
   "version": "3.9.16"
  }
 },
 "nbformat": 4,
 "nbformat_minor": 5
}

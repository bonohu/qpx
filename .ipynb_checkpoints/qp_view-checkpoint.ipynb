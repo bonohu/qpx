{
 "cells": [
  {
   "cell_type": "code",
   "execution_count": 1,
   "id": "8966fc7f",
   "metadata": {},
   "outputs": [
    {
     "data": {
      "text/html": [
       "<script src=\"https://d3js.org/d3.v3.js\"></script>"
      ],
      "text/plain": [
       "<IPython.core.display.HTML object>"
      ]
     },
     "execution_count": 1,
     "metadata": {},
     "output_type": "execute_result"
    }
   ],
   "source": [
    "from IPython.display import display, HTML\n",
    "from jinja2 import Environment, FileSystemLoader\n",
    "ENV = Environment(loader=FileSystemLoader(\"templates\", encoding='utf-8'))\n",
    "gid= \"\"\n",
    "col_num = 0\n",
    "def init_d3():\n",
    "    # scriptタグで記述する場合はd3.v3まで　それ以降はjsに記述が必要\n",
    "    return HTML('<script src=\"https://d3js.org/d3.v3.js\"></script>')\n",
    "\n",
    "init_d3()"
   ]
  },
  {
   "cell_type": "code",
   "execution_count": 2,
   "id": "9fe904ee",
   "metadata": {},
   "outputs": [
    {
     "data": {
      "text/html": [
       "<div id=\"chart\"></div>\n",
       "\n",
       "<script src=\"https://d3js.org/d3.v3.js\"></script>\n",
       "<svg id=\"svg2\" style=\"margin: 0 auto; display: block;\"></svg>\n",
       "<script type=\"text/javascript\">\n",
       "    var node_width = 80;\n",
       "    var node_height = 30;\n",
       "\n",
       "    var dataset = {\"links\": [{\"Graphics\": {\"LineStyle\": \"solid\"}, \"points\": [{\"ArrowHead\": null, \"GraphId\": \"d380d\", \"RelX\": 1.0, \"RelY\": 0.0, \"X\": 400.9999999999999, \"Y\": 190.03333333333333}, {\"ArrowHead\": \"mim-conversion\", \"GraphId\": \"e127b\", \"RelX\": 0.0, \"RelY\": 0.0, \"X\": 440.0, \"Y\": 231.92005057975857}]}, {\"Graphics\": {\"LineStyle\": \"solid\"}, \"points\": [{\"ArrowHead\": null, \"GraphId\": \"b60a4\", \"RelX\": -1.0, \"RelY\": 0.0, \"X\": 484.26900584795317, \"Y\": 232.10526315789465}, {\"ArrowHead\": \"mim-catalysis\", \"GraphId\": \"a7600\", \"RelX\": 0.0, \"RelY\": 0.0, \"X\": 440.0, \"Y\": 231.92005057975857}]}, {\"Graphics\": {\"LineStyle\": \"solid\"}, \"points\": [{\"ArrowHead\": null, \"GraphId\": \"c46e1\", \"RelX\": 0.0, \"RelY\": -1.0, \"X\": 196.66666666666669, \"Y\": 133.83333333333334}, {\"ArrowHead\": \"mim-conversion\", \"GraphId\": \"b4c36\", \"RelX\": 0.0, \"RelY\": 0.0, \"X\": 226.83333333333337, \"Y\": 96.66666666666667}]}, {\"Graphics\": {\"LineStyle\": \"solid\"}, \"points\": [{\"ArrowHead\": null, \"GraphId\": \"af8a1\", \"RelX\": 0.0, \"RelY\": 1.0, \"X\": 226.78362573099412, \"Y\": 68.1871345029239}, {\"ArrowHead\": \"mim-catalysis\", \"GraphId\": \"a6bb9\", \"RelX\": 0.0, \"RelY\": 0.0, \"X\": 226.83333333333337, \"Y\": 96.66666666666667}]}, {\"Graphics\": {\"LineStyle\": \"solid\"}, \"points\": [{\"ArrowHead\": null, \"GraphId\": \"b2cac\", \"RelX\": 0.0, \"RelY\": 1.0, \"X\": 263.814762621486, \"Y\": 281.2609294457817}, {\"ArrowHead\": \"mim-catalysis\", \"GraphId\": \"c2dd0\", \"RelX\": 0.0, \"RelY\": -1.0, \"X\": 263.33333333333337, \"Y\": 299.9999826410446}]}, {\"Graphics\": {\"LineStyle\": \"solid\"}, \"points\": [{\"ArrowHead\": null, \"GraphId\": \"f1be0\", \"RelX\": 0.0, \"RelY\": 1.0, \"X\": 440.00000000000006, \"Y\": 106.16666666666667}, {\"ArrowHead\": \"Arrow\", \"GraphId\": \"d0760\", \"RelX\": 0.0, \"RelY\": -1.0, \"X\": 440.0, \"Y\": 290.5}]}, {\"Graphics\": {\"LineStyle\": \"solid\"}, \"points\": [{\"ArrowHead\": null, \"GraphId\": \"c9978\", \"RelX\": -1.0, \"RelY\": 0.0, \"X\": 369.83333333333337, \"Y\": 300.0}, {\"ArrowHead\": \"Arrow\", \"GraphId\": \"e0822\", \"RelX\": 1.0, \"RelY\": 0.0, \"X\": 137.0, \"Y\": 300.0}]}, {\"Graphics\": {\"LineStyle\": \"solid\"}, \"points\": [{\"ArrowHead\": null, \"GraphId\": \"e9d49\", \"RelX\": 1.0, \"RelY\": 0.0, \"X\": 159.16666666666669, \"Y\": 96.66666666666667}, {\"ArrowHead\": \"Arrow\", \"GraphId\": \"ce4db\", \"RelX\": -1.0, \"RelY\": 0.0, \"X\": 328.33333333333337, \"Y\": 96.66666666666667}]}, {\"Graphics\": {\"LineStyle\": \"solid\"}, \"points\": [{\"ArrowHead\": null, \"GraphId\": \"a9296\", \"RelX\": 0.0, \"RelY\": 0.0, \"X\": 440.0, \"Y\": 231.92005057975857}, {\"ArrowHead\": \"mim-conversion\", \"GraphId\": \"de844\", \"RelX\": 1.0, \"RelY\": 0.0, \"X\": 400.9999999999999, \"Y\": 256.7}]}, {\"Graphics\": {\"LineStyle\": \"solid\"}, \"points\": [{\"ArrowHead\": null, \"GraphId\": \"f69bb\", \"RelX\": 0.0, \"RelY\": 0.0, \"X\": 226.83333333333337, \"Y\": 96.66666666666667}, {\"ArrowHead\": \"mim-conversion\", \"GraphId\": \"ce675\", \"RelX\": -0.5, \"RelY\": -1.0, \"X\": 276.9166666666667, \"Y\": 133.83333333333334}]}], \"nodes\": [{\"CenterX\": 313.3333333333333, \"CenterY\": 340.0, \"Color\": \"0000ff\", \"Height\": 19.0, \"TextLabel\": \"H2O\", \"Width\": 38.333333333333336}, {\"CenterX\": 80.0, \"CenterY\": 96.66666666666667, \"Color\": \"0000ff\", \"Height\": 19.0, \"TextLabel\": \"3-Phosphoglycerate\", \"Width\": 158.33333333333334}, {\"CenterX\": 440.0, \"CenterY\": 300.0, \"Color\": \"0000ff\", \"Height\": 19.0, \"TextLabel\": \"L-3-Phosphoserine\", \"Width\": 140.33333333333334}, {\"CenterX\": 440.00000000000006, \"CenterY\": 96.66666666666667, \"Color\": \"0000ff\", \"Height\": 19.0, \"TextLabel\": \"3-Phosphohydroxypyruvate\", \"Width\": 223.33333333333334}, {\"CenterX\": 343.3333333333333, \"CenterY\": 256.7, \"Color\": \"0000ff\", \"Height\": 19.0, \"TextLabel\": \"2-oxoglutarate\", \"Width\": 115.33333333333333}, {\"CenterX\": 196.66666666666666, \"CenterY\": 143.33333333333334, \"Color\": \"0000ff\", \"Height\": 19.0, \"TextLabel\": \"NAD\", \"Width\": 40.333333333333336}, {\"CenterX\": 226.78362573099415, \"CenterY\": 58.1871345029239, \"Color\": \"000000\", \"Height\": 20.0, \"TextLabel\": \"SER3\", \"Width\": 46.666666666666664}, {\"CenterX\": 103.33333333333333, \"CenterY\": 300.0, \"Color\": \"0000ff\", \"Height\": 19.0, \"TextLabel\": \"L-serine\", \"Width\": 67.33333333333333}, {\"CenterX\": 353.3333333333333, \"CenterY\": 190.03333333333333, \"Color\": \"0000ff\", \"Height\": 19.0, \"TextLabel\": \"L-glutamate\", \"Width\": 95.33333333333333}, {\"CenterX\": 504.2690058479532, \"CenterY\": 232.10526315789465, \"Color\": \"000000\", \"Height\": 20.0, \"TextLabel\": \"SER1\", \"Width\": 40.0}, {\"CenterX\": 263.814762621486, \"CenterY\": 271.2609294457817, \"Color\": \"000000\", \"Height\": 20.0, \"TextLabel\": \"SER2\", \"Width\": 40.0}, {\"CenterX\": 226.78362573099415, \"CenterY\": 38.18713450292394, \"Color\": \"000000\", \"Height\": 20.0, \"TextLabel\": \"SER33\", \"Width\": 46.666666666666664}, {\"CenterX\": 212.85190404518067, \"CenterY\": 341.92571715261045, \"Color\": \"0000ff\", \"Height\": 19.0, \"TextLabel\": \"phosphate\", \"Width\": 87.33333333333333}, {\"CenterX\": 290.0, \"CenterY\": 143.33333333333334, \"Color\": \"0000ff\", \"Height\": 19.0, \"TextLabel\": \"NADH\", \"Width\": 52.333333333333336}]}\n",
       "    var nodes = dataset[\"nodes\"]\n",
       "    var links = dataset[\"links\"]\n",
       "    var width = \"800\"\n",
       "    var height = \"400\"\n",
       "\n",
       "\n",
       "    function arrowHeadType(gpmlArrowType) {\n",
       "        switch (gpmlArrowType) {\n",
       "            case \"Arrow\":\n",
       "            case \"mim-conversion\":\n",
       "                return \"url(#marker-arrow)\";\n",
       "            case \"mim-catalysis\":\n",
       "                return \"url(#marker-circle)\";\n",
       "            case \"mim-inhibition\":\n",
       "                return \"url(#marker-pipe)\";\n",
       "        }\n",
       "        return '';\n",
       "    }\n",
       "\n",
       "\n",
       "    var svg = d3.select(\"#svg2\")\n",
       "        .attr(\"width\", width)\n",
       "        .attr(\"height\", height)\n",
       "        .style(\"background-color\", \"#fff\");\n",
       "\n",
       "    svg.selectAll(\"line\")\n",
       "        .data(links)\n",
       "        .enter().append(\"line\")\n",
       "        .attr(\"x1\", function (d, i) { return d.points[0].X + d.points[0].RelX })\n",
       "        .attr(\"y1\", function (d, i) { return d.points[0].Y + d.points[0].RelY })\n",
       "        .attr(\"x2\", function (d, i) { return d.points[1].X + d.points[1].RelX })\n",
       "        .attr(\"y2\", function (d, i) { return d.points[1].Y + d.points[1].RelY })\n",
       "        .attr('stroke', 'black')\n",
       "        .attr(\"marker-start\", d => arrowHeadType(d.points[0].ArrowHead))\n",
       "        .attr(\"marker-end\", d => arrowHeadType(d.points[1].ArrowHead))\n",
       "        .attr('fill', 'none');\n",
       "\n",
       "    svg.selectAll(\"rect\")\n",
       "        .data(nodes)\n",
       "        .enter().append(\"rect\")\n",
       "        .attr(\"x\", (d) => d.CenterX - d.Width / 2)\n",
       "        .attr(\"y\", (d) => d.CenterY - d.Height / 2)\n",
       "        .attr(\"width\", d => d.Width)\n",
       "        .attr(\"height\", d => d.Height)\n",
       "        .attr(\"fill\", \"white\")\n",
       "        .style(\"stroke\", d => `#${d.Color}`)\n",
       "        .on(\"click\", function (d) {\n",
       "            onIdClicked(d[2])\n",
       "        });\n",
       "\n",
       "    var markerBoxWidth = 10, markerBoxHeight = 10, refXFactor = 1, refYFactor = 0.5;\n",
       "    var arrowPoints = [\n",
       "        [markerBoxWidth, markerBoxHeight / 2],\n",
       "        [0, markerBoxHeight],\n",
       "        [0, 0]\n",
       "    ]\n",
       "    var refX = markerBoxWidth * refXFactor;\n",
       "    var refY = markerBoxHeight * refYFactor;\n",
       "\n",
       "    svg\n",
       "        .append(\"defs\")\n",
       "        .append(\"marker\")\n",
       "        .attr(\"id\", \"marker-arrow\")\n",
       "        .attr(\"viewBox\", [0, 0, markerBoxWidth, markerBoxHeight])\n",
       "        .attr(\"refX\", refX)\n",
       "        .attr(\"refY\", refY)\n",
       "        .attr(\"markerWidth\", markerBoxWidth)\n",
       "        .attr(\"markerHeight\", markerBoxHeight)\n",
       "        .attr(\"orient\", \"auto-start-reverse\")\n",
       "        .append(\"path\")\n",
       "        .attr(\"d\", `M ${markerBoxWidth} ${markerBoxHeight / 2} L 0 ${markerBoxHeight} L 0 0 z`)\n",
       "        .attr(\"fill\", \"#000000\");\n",
       "\n",
       "\n",
       "    svg\n",
       "        .append(\"defs\")\n",
       "        .append(\"marker\")\n",
       "        .attr(\"id\", \"marker-circle\")\n",
       "        .attr(\"viewBox\", [0, 0, markerBoxWidth, markerBoxHeight])\n",
       "        .attr(\"refX\", refX)\n",
       "        .attr(\"refY\", refY)\n",
       "        .attr(\"markerWidth\", markerBoxWidth)\n",
       "        .attr(\"markerHeight\", markerBoxHeight)\n",
       "        .attr(\"orient\", \"auto-start-reverse\")\n",
       "        .append('circle')\n",
       "        .attr('cx', markerBoxWidth / 2)\n",
       "        .attr('cy', markerBoxHeight / 2)\n",
       "        .attr('r', markerBoxWidth / 2)\n",
       "        .attr(\"stroke\", \"#000000\")\n",
       "        .attr(\"fill\", \"white\");\n",
       "\n",
       "\n",
       "    console.log(nodes)\n",
       "\n",
       "    svg.selectAll(\"text\")\n",
       "        .data(nodes)\n",
       "        .enter().append(\"text\")\n",
       "        .attr(\"x\", (d) => d.CenterX)\n",
       "        .attr(\"y\", (d) => d.CenterY)\n",
       "        .attr(\"stroke\", d => `#${d.Color}`)\n",
       "        .text(d => d.TextLabel)\n",
       "        .style(\"text-anchor\", \"middle\")\n",
       "        .style(\"dominant-baseline\", \"central\")\n",
       "        .on(\"click\", function (d) {\n",
       "            onIdClicked(d.TextLabel)\n",
       "        });\n",
       "\n",
       "    function onIdClicked(gid) {\n",
       "        // 下記の記述でグローバル変数をJupyterのPythonにわたすことはできる\n",
       "        //Jupyter.notebook.kernel.execute(\"gid='AT5G23350'\");\n",
       "        //kernel.execute('graphId=10');\n",
       "        Jupyter.notebook.kernel.execute(`gid='${gid}'`);\n",
       "\n",
       "\n",
       "        // 相対位置でcellを指定しcellを実行する場合。フォーカスが当たっていないと実行位置がずれるため使えない\n",
       "        //var cell = Jupyter.notebook.select_next().get_selected_cell()\n",
       "        //cell.execute()\n",
       "\n",
       "        // cellのindexを指定しtableのアップデートを実行する場合。設定で変更できると良いかも（必要ないかもだが）\n",
       "        Jupyter.notebook.execute_cells([2])\n",
       "    }\n",
       "</script>"
      ],
      "text/plain": [
       "<IPython.core.display.HTML object>"
      ]
     },
     "execution_count": 2,
     "metadata": {},
     "output_type": "execute_result"
    }
   ],
   "source": [
    "from src.qp import GpmlD3Visualizer\n",
    "fig = GpmlD3Visualizer(template=ENV.get_template('pathway_by_d3.html'), gpml=\"tests/data/WP459.gpml\")\n",
    "HTML(fig.show())"
   ]
  },
  {
   "cell_type": "code",
   "execution_count": 3,
   "id": "8de2d9f8",
   "metadata": {},
   "outputs": [
    {
     "data": {
      "text/html": [
       "<div>\n",
       "<style scoped>\n",
       "    .dataframe tbody tr th:only-of-type {\n",
       "        vertical-align: middle;\n",
       "    }\n",
       "\n",
       "    .dataframe tbody tr th {\n",
       "        vertical-align: top;\n",
       "    }\n",
       "\n",
       "    .dataframe thead th {\n",
       "        text-align: right;\n",
       "    }\n",
       "</style>\n",
       "<table border=\"1\" class=\"dataframe\">\n",
       "  <thead>\n",
       "    <tr style=\"text-align: right;\">\n",
       "      <th></th>\n",
       "      <th>Description</th>\n",
       "      <th>Expression</th>\n",
       "      <th>Age</th>\n",
       "      <th>Developmental stage</th>\n",
       "      <th>Organism part</th>\n",
       "      <th>Treatment</th>\n",
       "      <th>Label</th>\n",
       "    </tr>\n",
       "  </thead>\n",
       "  <tbody>\n",
       "  </tbody>\n",
       "</table>\n",
       "</div>"
      ],
      "text/plain": [
       "Empty DataFrame\n",
       "Columns: [Description, Expression, Age, Developmental stage, Organism part, Treatment, Label]\n",
       "Index: []"
      ]
     },
     "execution_count": 3,
     "metadata": {},
     "output_type": "execute_result"
    }
   ],
   "source": [
    "# Do not edit this Cell. This cell is for auto-execution\n",
    "fig.table(gid)"
   ]
  },
  {
   "cell_type": "code",
   "execution_count": null,
   "id": "a6cdcf1a",
   "metadata": {},
   "outputs": [],
   "source": []
  }
 ],
 "metadata": {
  "kernelspec": {
   "display_name": "Python 3 (ipykernel)",
   "language": "python",
   "name": "python3"
  },
  "language_info": {
   "codemirror_mode": {
    "name": "ipython",
    "version": 3
   },
   "file_extension": ".py",
   "mimetype": "text/x-python",
   "name": "python",
   "nbconvert_exporter": "python",
   "pygments_lexer": "ipython3",
   "version": "3.9.16"
  }
 },
 "nbformat": 4,
 "nbformat_minor": 5
}

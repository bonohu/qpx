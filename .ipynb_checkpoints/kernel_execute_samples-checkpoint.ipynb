{
 "cells": [
  {
   "cell_type": "markdown",
   "id": "53d08d56",
   "metadata": {},
   "source": [
    "# kernel.ececuteの利用"
   ]
  },
  {
   "cell_type": "markdown",
   "id": "132ac90c",
   "metadata": {},
   "source": [
    "変数定義"
   ]
  },
  {
   "cell_type": "code",
   "execution_count": 79,
   "id": "43b06455",
   "metadata": {},
   "outputs": [
    {
     "name": "stdout",
     "output_type": "stream",
     "text": [
      "hello\n"
     ]
    }
   ],
   "source": [
    "def say_hello():\n",
    "  print('hello hello')\n",
    "say_hello()"
   ]
  },
  {
   "cell_type": "code",
   "execution_count": 72,
   "id": "d3b72059",
   "metadata": {},
   "outputs": [
    {
     "data": {
      "text/html": [
       "<div id=\"result_output\">\n"
      ],
      "text/plain": [
       "<IPython.core.display.HTML object>"
      ]
     },
     "metadata": {},
     "output_type": "display_data"
    }
   ],
   "source": [
    "%%html\n",
    "<div id=\"result_output\">"
   ]
  },
  {
   "cell_type": "code",
   "execution_count": 73,
   "id": "bbb4cd06",
   "metadata": {},
   "outputs": [
    {
     "data": {
      "application/javascript": [
       "//What have been tried\n",
       "// Method 1\n",
       "var kernel = IPython.notebook.kernel;\n",
       "\n",
       "// Method 2\n",
       "Jupyter.notebook.kernel.execute('x = 121')\n"
      ],
      "text/plain": [
       "<IPython.core.display.Javascript object>"
      ]
     },
     "metadata": {},
     "output_type": "display_data"
    }
   ],
   "source": [
    "%%javascript\n",
    "//What have been tried\n",
    "// Method 1\n",
    "var kernel = IPython.notebook.kernel;\n",
    "\n",
    "// Method 2\n",
    "Jupyter.notebook.kernel.execute('x = 121')"
   ]
  },
  {
   "cell_type": "code",
   "execution_count": 74,
   "id": "f71e8fd2",
   "metadata": {},
   "outputs": [
    {
     "name": "stdout",
     "output_type": "stream",
     "text": [
      "121\n"
     ]
    }
   ],
   "source": [
    "print(x)"
   ]
  },
  {
   "cell_type": "markdown",
   "id": "40ddd4db",
   "metadata": {},
   "source": [
    "IPython.display.JavascriptでのJSでの変数定義"
   ]
  },
  {
   "cell_type": "code",
   "execution_count": 60,
   "id": "e4b9988b",
   "metadata": {},
   "outputs": [],
   "source": [
    "from IPython.display import display,Javascript,HTML"
   ]
  },
  {
   "cell_type": "code",
   "execution_count": 61,
   "id": "3665ce3d",
   "metadata": {},
   "outputs": [],
   "source": [
    "test_script = \"\"\"\n",
    "var kernel = IPython.notebook.kernel;\n",
    "Jupyter.notebook.kernel.execute('y = 102')\n",
    "\"\"\""
   ]
  },
  {
   "cell_type": "code",
   "execution_count": 62,
   "id": "d60c4aa6",
   "metadata": {},
   "outputs": [
    {
     "data": {
      "application/javascript": [
       "\n",
       "var kernel = IPython.notebook.kernel;\n",
       "Jupyter.notebook.kernel.execute('y = 102')\n"
      ],
      "text/plain": [
       "<IPython.core.display.Javascript object>"
      ]
     },
     "execution_count": 62,
     "metadata": {},
     "output_type": "execute_result"
    }
   ],
   "source": [
    "Javascript(test_script)"
   ]
  },
  {
   "cell_type": "code",
   "execution_count": 18,
   "id": "6d8df7fa",
   "metadata": {},
   "outputs": [
    {
     "data": {
      "text/plain": [
       "102"
      ]
     },
     "execution_count": 18,
     "metadata": {},
     "output_type": "execute_result"
    }
   ],
   "source": [
    "y"
   ]
  },
  {
   "cell_type": "markdown",
   "id": "d30f22f7",
   "metadata": {},
   "source": [
    "- execute_cells([])することでprogramaticalにjupyteのcellを実行できる。cellインデックスは最上部のcellから0始まりでつくと思われる\n",
    "- print()は命令が書かれたcellの下に実行される"
   ]
  },
  {
   "cell_type": "code",
   "execution_count": 78,
   "id": "9df56f4c",
   "metadata": {},
   "outputs": [
    {
     "data": {
      "application/javascript": [
       "Jupyter.notebook.execute_cells([2])\n"
      ],
      "text/plain": [
       "<IPython.core.display.Javascript object>"
      ]
     },
     "metadata": {},
     "output_type": "display_data"
    }
   ],
   "source": [
    "%%javascript\n",
    "Jupyter.notebook.execute_cells([2])"
   ]
  },
  {
   "cell_type": "code",
   "execution_count": 46,
   "id": "f0c30376",
   "metadata": {},
   "outputs": [
    {
     "data": {
      "text/plain": [
       "111"
      ]
     },
     "execution_count": 46,
     "metadata": {},
     "output_type": "execute_result"
    }
   ],
   "source": [
    "x"
   ]
  },
  {
   "cell_type": "code",
   "execution_count": 86,
   "id": "19d739aa",
   "metadata": {},
   "outputs": [
    {
     "data": {
      "text/html": [
       "<div id=\"result_output\">huuuu</div>\n"
      ],
      "text/plain": [
       "<IPython.core.display.HTML object>"
      ]
     },
     "metadata": {},
     "output_type": "display_data"
    }
   ],
   "source": [
    "%%html\n",
    "<div id=\"result_output\">huuuu</div>"
   ]
  },
  {
   "cell_type": "markdown",
   "id": "5dcab807",
   "metadata": {},
   "source": [
    "下記は有効なコードで、print()の結果が#result_outputに記述される\n",
    "print()のスコープとかPythonの関数のスコープとかちょっとわかりにくい"
   ]
  },
  {
   "cell_type": "code",
   "execution_count": 92,
   "id": "e9a16c0f",
   "metadata": {},
   "outputs": [
    {
     "data": {
      "application/javascript": [
       "const callbacks = {\n",
       "    iopub: {\n",
       "        output: (data) => {\n",
       "            // this will print a message in browser console\n",
       "            console.log('hello in console')\n",
       "\n",
       "            // this will insert the execution result into \"result_output\" div\n",
       "            document.getElementById(\"result_output\").innerHTML = data.content.text\n",
       "        }\n",
       "    }\n",
       "};\n",
       "\n",
       "const kernel = Jupyter.notebook.kernel\n",
       "kernel.execute('print(\"testesttest\")', callbacks)\n",
       "kernel.execute('print(\"testest\")')\n"
      ],
      "text/plain": [
       "<IPython.core.display.Javascript object>"
      ]
     },
     "metadata": {},
     "output_type": "display_data"
    }
   ],
   "source": [
    "%%javascript\n",
    "const callbacks = {\n",
    "    iopub: {\n",
    "        output: (data) => {\n",
    "            // this will print a message in browser console\n",
    "            console.log('hello in console')\n",
    "\n",
    "            // this will insert the execution result into \"result_output\" div\n",
    "            document.getElementById(\"result_output\").innerHTML = data.content.text\n",
    "        }\n",
    "    }\n",
    "};\n",
    "\n",
    "const kernel = Jupyter.notebook.kernel\n",
    "kernel.execute('print(\"testesttest\")', callbacks)"
   ]
  },
  {
   "cell_type": "markdown",
   "id": "0a25e5f3",
   "metadata": {},
   "source": [
    "## kernel.executeで df.sample()を呼ぶ方法検討\n",
    "おそらくDOMやスコープの問題でjavascriptでpythonのコードを実行してもcellにそのままでは表示されない"
   ]
  },
  {
   "cell_type": "code",
   "execution_count": 105,
   "id": "96f0af63",
   "metadata": {},
   "outputs": [],
   "source": [
    "import seaborn as sns\n",
    "import pandas\n",
    "iris = sns.load_dataset('iris')"
   ]
  },
  {
   "cell_type": "markdown",
   "id": "1e7d4cbc",
   "metadata": {},
   "source": [
    "kernel.execute()で　描画関連のコードの実行を読んでもどこにも描画されない（エラーにはならない）"
   ]
  },
  {
   "cell_type": "code",
   "execution_count": 94,
   "id": "1651f29e",
   "metadata": {},
   "outputs": [
    {
     "data": {
      "application/javascript": [
       "const kernel = Jupyter.notebook.kernel\n",
       "kernel.execute('iris.sample(1)')\n"
      ],
      "text/plain": [
       "<IPython.core.display.Javascript object>"
      ]
     },
     "metadata": {},
     "output_type": "display_data"
    }
   ],
   "source": [
    "%%javascript\n",
    "const kernel = Jupyter.notebook.kernel\n",
    "kernel.execute('iris.sample(1)')"
   ]
  },
  {
   "cell_type": "markdown",
   "id": "7b6b0cb5",
   "metadata": {},
   "source": [
    "cell.execute()した場合iris.sample(4)は実行される"
   ]
  },
  {
   "cell_type": "code",
   "execution_count": 113,
   "id": "319101fc",
   "metadata": {},
   "outputs": [
    {
     "data": {
      "text/html": [
       "<div>\n",
       "<style scoped>\n",
       "    .dataframe tbody tr th:only-of-type {\n",
       "        vertical-align: middle;\n",
       "    }\n",
       "\n",
       "    .dataframe tbody tr th {\n",
       "        vertical-align: top;\n",
       "    }\n",
       "\n",
       "    .dataframe thead th {\n",
       "        text-align: right;\n",
       "    }\n",
       "</style>\n",
       "<table border=\"1\" class=\"dataframe\">\n",
       "  <thead>\n",
       "    <tr style=\"text-align: right;\">\n",
       "      <th></th>\n",
       "      <th>sepal_length</th>\n",
       "      <th>sepal_width</th>\n",
       "      <th>petal_length</th>\n",
       "      <th>petal_width</th>\n",
       "      <th>species</th>\n",
       "    </tr>\n",
       "  </thead>\n",
       "  <tbody>\n",
       "    <tr>\n",
       "      <th>102</th>\n",
       "      <td>7.1</td>\n",
       "      <td>3.0</td>\n",
       "      <td>5.9</td>\n",
       "      <td>2.1</td>\n",
       "      <td>virginica</td>\n",
       "    </tr>\n",
       "  </tbody>\n",
       "</table>\n",
       "</div>"
      ],
      "text/plain": [
       "     sepal_length  sepal_width  petal_length  petal_width    species\n",
       "102           7.1          3.0           5.9          2.1  virginica"
      ]
     },
     "execution_count": 113,
     "metadata": {},
     "output_type": "execute_result"
    }
   ],
   "source": [
    "iris.sample(1)"
   ]
  },
  {
   "cell_type": "code",
   "execution_count": 112,
   "id": "70d75ac9",
   "metadata": {},
   "outputs": [
    {
     "data": {
      "application/javascript": [
       "var cell = Jupyter.notebook.select_prev().get_selected_cell()\n",
       "// set text in the cell\n",
       "cell.execute()\n"
      ],
      "text/plain": [
       "<IPython.core.display.Javascript object>"
      ]
     },
     "metadata": {},
     "output_type": "display_data"
    },
    {
     "data": {
      "application/javascript": [
       "var cell = Jupyter.notebook.select_prev().get_selected_cell()\n",
       "// set text in the cell\n",
       "cell.execute()\n"
      ],
      "text/plain": [
       "<IPython.core.display.Javascript object>"
      ]
     },
     "metadata": {},
     "output_type": "display_data"
    }
   ],
   "source": [
    "%%javascript\n",
    "var cell = Jupyter.notebook.select_prev().get_selected_cell()\n",
    "// set text in the cell\n",
    "cell.execute()"
   ]
  },
  {
   "cell_type": "markdown",
   "id": "fbcc9396",
   "metadata": {},
   "source": [
    "関数は実行されるがdfのテーブルは描画されない。 >> return をつける必要がある。returnすると描画される"
   ]
  },
  {
   "cell_type": "code",
   "execution_count": 129,
   "id": "770f78ec",
   "metadata": {},
   "outputs": [
    {
     "name": "stdout",
     "output_type": "stream",
     "text": [
      "tssaaass\n"
     ]
    },
    {
     "data": {
      "text/html": [
       "<div>\n",
       "<style scoped>\n",
       "    .dataframe tbody tr th:only-of-type {\n",
       "        vertical-align: middle;\n",
       "    }\n",
       "\n",
       "    .dataframe tbody tr th {\n",
       "        vertical-align: top;\n",
       "    }\n",
       "\n",
       "    .dataframe thead th {\n",
       "        text-align: right;\n",
       "    }\n",
       "</style>\n",
       "<table border=\"1\" class=\"dataframe\">\n",
       "  <thead>\n",
       "    <tr style=\"text-align: right;\">\n",
       "      <th></th>\n",
       "      <th>sepal_length</th>\n",
       "      <th>sepal_width</th>\n",
       "      <th>petal_length</th>\n",
       "      <th>petal_width</th>\n",
       "      <th>species</th>\n",
       "    </tr>\n",
       "  </thead>\n",
       "  <tbody>\n",
       "    <tr>\n",
       "      <th>65</th>\n",
       "      <td>6.7</td>\n",
       "      <td>3.1</td>\n",
       "      <td>4.4</td>\n",
       "      <td>1.4</td>\n",
       "      <td>versicolor</td>\n",
       "    </tr>\n",
       "    <tr>\n",
       "      <th>37</th>\n",
       "      <td>4.9</td>\n",
       "      <td>3.6</td>\n",
       "      <td>1.4</td>\n",
       "      <td>0.1</td>\n",
       "      <td>setosa</td>\n",
       "    </tr>\n",
       "    <tr>\n",
       "      <th>122</th>\n",
       "      <td>7.7</td>\n",
       "      <td>2.8</td>\n",
       "      <td>6.7</td>\n",
       "      <td>2.0</td>\n",
       "      <td>virginica</td>\n",
       "    </tr>\n",
       "    <tr>\n",
       "      <th>134</th>\n",
       "      <td>6.1</td>\n",
       "      <td>2.6</td>\n",
       "      <td>5.6</td>\n",
       "      <td>1.4</td>\n",
       "      <td>virginica</td>\n",
       "    </tr>\n",
       "    <tr>\n",
       "      <th>64</th>\n",
       "      <td>5.6</td>\n",
       "      <td>2.9</td>\n",
       "      <td>3.6</td>\n",
       "      <td>1.3</td>\n",
       "      <td>versicolor</td>\n",
       "    </tr>\n",
       "    <tr>\n",
       "      <th>2</th>\n",
       "      <td>4.7</td>\n",
       "      <td>3.2</td>\n",
       "      <td>1.3</td>\n",
       "      <td>0.2</td>\n",
       "      <td>setosa</td>\n",
       "    </tr>\n",
       "    <tr>\n",
       "      <th>99</th>\n",
       "      <td>5.7</td>\n",
       "      <td>2.8</td>\n",
       "      <td>4.1</td>\n",
       "      <td>1.3</td>\n",
       "      <td>versicolor</td>\n",
       "    </tr>\n",
       "    <tr>\n",
       "      <th>96</th>\n",
       "      <td>5.7</td>\n",
       "      <td>2.9</td>\n",
       "      <td>4.2</td>\n",
       "      <td>1.3</td>\n",
       "      <td>versicolor</td>\n",
       "    </tr>\n",
       "    <tr>\n",
       "      <th>131</th>\n",
       "      <td>7.9</td>\n",
       "      <td>3.8</td>\n",
       "      <td>6.4</td>\n",
       "      <td>2.0</td>\n",
       "      <td>virginica</td>\n",
       "    </tr>\n",
       "    <tr>\n",
       "      <th>73</th>\n",
       "      <td>6.1</td>\n",
       "      <td>2.8</td>\n",
       "      <td>4.7</td>\n",
       "      <td>1.2</td>\n",
       "      <td>versicolor</td>\n",
       "    </tr>\n",
       "  </tbody>\n",
       "</table>\n",
       "</div>"
      ],
      "text/plain": [
       "     sepal_length  sepal_width  petal_length  petal_width     species\n",
       "65            6.7          3.1           4.4          1.4  versicolor\n",
       "37            4.9          3.6           1.4          0.1      setosa\n",
       "122           7.7          2.8           6.7          2.0   virginica\n",
       "134           6.1          2.6           5.6          1.4   virginica\n",
       "64            5.6          2.9           3.6          1.3  versicolor\n",
       "2             4.7          3.2           1.3          0.2      setosa\n",
       "99            5.7          2.8           4.1          1.3  versicolor\n",
       "96            5.7          2.9           4.2          1.3  versicolor\n",
       "131           7.9          3.8           6.4          2.0   virginica\n",
       "73            6.1          2.8           4.7          1.2  versicolor"
      ]
     },
     "execution_count": 129,
     "metadata": {},
     "output_type": "execute_result"
    }
   ],
   "source": [
    "def show_iris():\n",
    "    print(\"tssaaass\")\n",
    "    return iris.sample(10)\n",
    "\n",
    "show_iris()"
   ]
  },
  {
   "cell_type": "code",
   "execution_count": 128,
   "id": "67b00130",
   "metadata": {},
   "outputs": [
    {
     "data": {
      "application/javascript": [
       "var cell = Jupyter.notebook.select_prev().get_selected_cell()\n",
       "// set text in the cell\n",
       "cell.execute()\n"
      ],
      "text/plain": [
       "<IPython.core.display.Javascript object>"
      ]
     },
     "metadata": {},
     "output_type": "display_data"
    },
    {
     "data": {
      "application/javascript": [
       "var cell = Jupyter.notebook.select_prev().get_selected_cell()\n",
       "// set text in the cell\n",
       "cell.execute()\n"
      ],
      "text/plain": [
       "<IPython.core.display.Javascript object>"
      ]
     },
     "metadata": {},
     "output_type": "display_data"
    }
   ],
   "source": [
    "%%javascript\n",
    "var cell = Jupyter.notebook.select_prev().get_selected_cell()\n",
    "// set text in the cell\n",
    "cell.execute()"
   ]
  },
  {
   "cell_type": "code",
   "execution_count": null,
   "id": "7bb6b3ee",
   "metadata": {},
   "outputs": [],
   "source": []
  }
 ],
 "metadata": {
  "kernelspec": {
   "display_name": "Python 3 (ipykernel)",
   "language": "python",
   "name": "python3"
  },
  "language_info": {
   "codemirror_mode": {
    "name": "ipython",
    "version": 3
   },
   "file_extension": ".py",
   "mimetype": "text/x-python",
   "name": "python",
   "nbconvert_exporter": "python",
   "pygments_lexer": "ipython3",
   "version": "3.9.16"
  }
 },
 "nbformat": 4,
 "nbformat_minor": 5
}

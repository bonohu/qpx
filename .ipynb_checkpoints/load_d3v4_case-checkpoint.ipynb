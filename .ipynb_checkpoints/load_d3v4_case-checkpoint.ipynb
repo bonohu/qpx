{
 "cells": [
  {
   "cell_type": "code",
   "execution_count": 1,
   "id": "baee191b-dcbd-421a-8cb5-1ca68fe0e094",
   "metadata": {},
   "outputs": [],
   "source": [
    "from IPython.display import Javascript,HTML\n",
    "import json\n",
    "import seaborn as sns\n",
    "import pandas"
   ]
  },
  {
   "cell_type": "code",
   "execution_count": 2,
   "id": "ecc67e78-b7ee-49a1-922b-1a192626c47c",
   "metadata": {},
   "outputs": [],
   "source": [
    "iris = sns.load_dataset('iris')"
   ]
  },
  {
   "cell_type": "code",
   "execution_count": 3,
   "id": "52b43fb0-65dd-4c44-bef2-36a23981615a",
   "metadata": {
    "scrolled": true
   },
   "outputs": [
    {
     "data": {
      "text/html": [
       "<div>\n",
       "<style scoped>\n",
       "    .dataframe tbody tr th:only-of-type {\n",
       "        vertical-align: middle;\n",
       "    }\n",
       "\n",
       "    .dataframe tbody tr th {\n",
       "        vertical-align: top;\n",
       "    }\n",
       "\n",
       "    .dataframe thead th {\n",
       "        text-align: right;\n",
       "    }\n",
       "</style>\n",
       "<table border=\"1\" class=\"dataframe\">\n",
       "  <thead>\n",
       "    <tr style=\"text-align: right;\">\n",
       "      <th></th>\n",
       "      <th>sepal_length</th>\n",
       "      <th>sepal_width</th>\n",
       "      <th>petal_length</th>\n",
       "      <th>petal_width</th>\n",
       "      <th>species</th>\n",
       "    </tr>\n",
       "  </thead>\n",
       "  <tbody>\n",
       "    <tr>\n",
       "      <th>23</th>\n",
       "      <td>5.1</td>\n",
       "      <td>3.3</td>\n",
       "      <td>1.7</td>\n",
       "      <td>0.5</td>\n",
       "      <td>setosa</td>\n",
       "    </tr>\n",
       "    <tr>\n",
       "      <th>32</th>\n",
       "      <td>5.2</td>\n",
       "      <td>4.1</td>\n",
       "      <td>1.5</td>\n",
       "      <td>0.1</td>\n",
       "      <td>setosa</td>\n",
       "    </tr>\n",
       "    <tr>\n",
       "      <th>5</th>\n",
       "      <td>5.4</td>\n",
       "      <td>3.9</td>\n",
       "      <td>1.7</td>\n",
       "      <td>0.4</td>\n",
       "      <td>setosa</td>\n",
       "    </tr>\n",
       "    <tr>\n",
       "      <th>44</th>\n",
       "      <td>5.1</td>\n",
       "      <td>3.8</td>\n",
       "      <td>1.9</td>\n",
       "      <td>0.4</td>\n",
       "      <td>setosa</td>\n",
       "    </tr>\n",
       "    <tr>\n",
       "      <th>12</th>\n",
       "      <td>4.8</td>\n",
       "      <td>3.0</td>\n",
       "      <td>1.4</td>\n",
       "      <td>0.1</td>\n",
       "      <td>setosa</td>\n",
       "    </tr>\n",
       "    <tr>\n",
       "      <th>146</th>\n",
       "      <td>6.3</td>\n",
       "      <td>2.5</td>\n",
       "      <td>5.0</td>\n",
       "      <td>1.9</td>\n",
       "      <td>virginica</td>\n",
       "    </tr>\n",
       "    <tr>\n",
       "      <th>88</th>\n",
       "      <td>5.6</td>\n",
       "      <td>3.0</td>\n",
       "      <td>4.1</td>\n",
       "      <td>1.3</td>\n",
       "      <td>versicolor</td>\n",
       "    </tr>\n",
       "    <tr>\n",
       "      <th>141</th>\n",
       "      <td>6.9</td>\n",
       "      <td>3.1</td>\n",
       "      <td>5.1</td>\n",
       "      <td>2.3</td>\n",
       "      <td>virginica</td>\n",
       "    </tr>\n",
       "    <tr>\n",
       "      <th>116</th>\n",
       "      <td>6.5</td>\n",
       "      <td>3.0</td>\n",
       "      <td>5.5</td>\n",
       "      <td>1.8</td>\n",
       "      <td>virginica</td>\n",
       "    </tr>\n",
       "    <tr>\n",
       "      <th>130</th>\n",
       "      <td>7.4</td>\n",
       "      <td>2.8</td>\n",
       "      <td>6.1</td>\n",
       "      <td>1.9</td>\n",
       "      <td>virginica</td>\n",
       "    </tr>\n",
       "  </tbody>\n",
       "</table>\n",
       "</div>"
      ],
      "text/plain": [
       "     sepal_length  sepal_width  petal_length  petal_width     species\n",
       "23            5.1          3.3           1.7          0.5      setosa\n",
       "32            5.2          4.1           1.5          0.1      setosa\n",
       "5             5.4          3.9           1.7          0.4      setosa\n",
       "44            5.1          3.8           1.9          0.4      setosa\n",
       "12            4.8          3.0           1.4          0.1      setosa\n",
       "146           6.3          2.5           5.0          1.9   virginica\n",
       "88            5.6          3.0           4.1          1.3  versicolor\n",
       "141           6.9          3.1           5.1          2.3   virginica\n",
       "116           6.5          3.0           5.5          1.8   virginica\n",
       "130           7.4          2.8           6.1          1.9   virginica"
      ]
     },
     "execution_count": 3,
     "metadata": {},
     "output_type": "execute_result"
    }
   ],
   "source": [
    "iris.sample(10)"
   ]
  },
  {
   "cell_type": "code",
   "execution_count": 4,
   "id": "ea9cbdd5-0309-4376-bd95-b7473563818e",
   "metadata": {},
   "outputs": [
    {
     "data": {
      "text/plain": [
       "['setosa', 'versicolor', 'virginica']"
      ]
     },
     "execution_count": 4,
     "metadata": {},
     "output_type": "execute_result"
    }
   ],
   "source": [
    "iris['species'].drop_duplicates().tolist()"
   ]
  },
  {
   "cell_type": "code",
   "execution_count": 5,
   "id": "bbdcd403-eb92-4318-9d36-afd61bc4ab1b",
   "metadata": {},
   "outputs": [
    {
     "data": {
      "application/javascript": [
       "\n",
       "require.config({\n",
       "    paths: {\n",
       "        d3: \"https://d3js.org/d3.v4.min\"\n",
       "    }\n",
       "});\n",
       "\n",
       "require([\"d3\"], function(d3) {\n",
       "\n",
       "    window.updater = function(data) {\n",
       "\n",
       "        var svg_margin = { top: 20, right: 20, bottom: 20, left: 40 };\n",
       "        var svg_width = 960 - svg_margin.left - svg_margin.right;\n",
       "        var svg_height = 500 - svg_margin.top - svg_margin.bottom;\n",
       "\n",
       "        var y = d3.scaleLinear()\n",
       "            .domain([0, d3.max(data, function(d) { return d.petal_length; })])\n",
       "            .range([svg_height, 0]);\n",
       "\n",
       "        var x = d3.scaleBand()\n",
       "            .domain(d3.range(data.length))\n",
       "            .range([0, svg_width])\n",
       "            .padding(0.1);\n",
       "\n",
       "        var species_list = d3.map(data, function (d) { return d.species;}).keys();\n",
       "\n",
       "        if (d3.select(\"#svg_container\").select(\"svg\").empty()) {\n",
       "\n",
       "            window.svg = d3.select(\"#svg_container\").append(\"svg\")\n",
       "                .attr(\"width\", svg_width + svg_margin.left + svg_margin.right)\n",
       "                .attr(\"height\", svg_height + svg_margin.top + svg_margin.bottom)\n",
       "                .append(\"g\")\n",
       "                .attr(\"transform\",\n",
       "                    \"translate(\" + svg_margin.left + \",\" + svg_margin.top + \")\");\n",
       "\n",
       "            svg.append(\"g\")\n",
       "                .attr(\"transform\", \"translate(0,\" + svg_height + \")\")\n",
       "                .attr(\"class\", \"x axis\")\n",
       "                .call(d3.axisBottom(x));\n",
       "\n",
       "            // add the y Axis\n",
       "            svg.append(\"g\")\n",
       "                .attr(\"class\", \"y axis\")\n",
       "                .call(d3.axisLeft(y));\n",
       "        } else {\n",
       "            svg.selectAll(\"g.y.axis\")\n",
       "                .call(d3.axisLeft(y));\n",
       "\n",
       "            svg.selectAll(\"g.x.axis\")\n",
       "                .call(d3.axisBottom(x));\n",
       "        }\n",
       "\n",
       "        // DATA JOIN\n",
       "        // Join new data with old elements, if any.\n",
       "\n",
       "        var bars = svg.selectAll(\".bar\")\n",
       "            .data(data);\n",
       "\n",
       "        // UPDATE\n",
       "        // Update old elements as needed.\n",
       "\n",
       "        bars\n",
       "            .attr(\"style\",function(d) { return \"fill:\" + d3.schemeCategory10[species_list.indexOf(d.species)];})\n",
       "            .attr(\"x\", function(d, i) { return x(i); })\n",
       "            .attr(\"width\", x.bandwidth())\n",
       "            .transition()\n",
       "            .duration(100)\n",
       "            .attr(\"y\", function(d) { return y(d.petal_length); })\n",
       "            .attr(\"height\", function(d) { return svg_height - y(d.petal_length); });\n",
       "\n",
       "        // ENTER + UPDATE\n",
       "        // After merging the entered elements with the update selection,\n",
       "        // apply operations to both.\n",
       "\n",
       "        bars.enter().append(\"rect\")\n",
       "            .attr(\"class\", \"bar\")\n",
       "            .attr(\"style\",function(d) { return \"fill:\" + d3.schemeCategory10[species_list.indexOf(d.species)];})\n",
       "            .attr(\"x\", function(d, i) { return x(i); })\n",
       "            .attr(\"width\", x.bandwidth())\n",
       "            .attr(\"y\", function(d) { return y(d.petal_length); })\n",
       "            .attr(\"height\", function(d) { return svg_height - y(d.petal_length); })\n",
       "            .merge(bars);\n",
       "\n",
       "        // EXIT\n",
       "        // Remove old elements as needed.\n",
       "\n",
       "        bars.exit().remove();\n",
       "\n",
       "    };\n",
       "});\n"
      ],
      "text/plain": [
       "<IPython.core.display.Javascript object>"
      ]
     },
     "execution_count": 5,
     "metadata": {},
     "output_type": "execute_result"
    }
   ],
   "source": [
    "Javascript(\"\"\"\n",
    "require.config({\n",
    "    paths: {\n",
    "        d3: \"https://d3js.org/d3.v4.min\"\n",
    "    }\n",
    "});\n",
    "\n",
    "require([\"d3\"], function(d3) {\n",
    "\n",
    "    window.updater = function(data) {\n",
    "\n",
    "        var svg_margin = { top: 20, right: 20, bottom: 20, left: 40 };\n",
    "        var svg_width = 960 - svg_margin.left - svg_margin.right;\n",
    "        var svg_height = 500 - svg_margin.top - svg_margin.bottom;\n",
    "\n",
    "        var y = d3.scaleLinear()\n",
    "            .domain([0, d3.max(data, function(d) { return d.petal_length; })])\n",
    "            .range([svg_height, 0]);\n",
    "\n",
    "        var x = d3.scaleBand()\n",
    "            .domain(d3.range(data.length))\n",
    "            .range([0, svg_width])\n",
    "            .padding(0.1);\n",
    "\n",
    "        var species_list = d3.map(data, function (d) { return d.species;}).keys();\n",
    "\n",
    "        if (d3.select(\"#svg_container\").select(\"svg\").empty()) {\n",
    "\n",
    "            window.svg = d3.select(\"#svg_container\").append(\"svg\")\n",
    "                .attr(\"width\", svg_width + svg_margin.left + svg_margin.right)\n",
    "                .attr(\"height\", svg_height + svg_margin.top + svg_margin.bottom)\n",
    "                .append(\"g\")\n",
    "                .attr(\"transform\",\n",
    "                    \"translate(\" + svg_margin.left + \",\" + svg_margin.top + \")\");\n",
    "\n",
    "            svg.append(\"g\")\n",
    "                .attr(\"transform\", \"translate(0,\" + svg_height + \")\")\n",
    "                .attr(\"class\", \"x axis\")\n",
    "                .call(d3.axisBottom(x));\n",
    "\n",
    "            // add the y Axis\n",
    "            svg.append(\"g\")\n",
    "                .attr(\"class\", \"y axis\")\n",
    "                .call(d3.axisLeft(y));\n",
    "        } else {\n",
    "            svg.selectAll(\"g.y.axis\")\n",
    "                .call(d3.axisLeft(y));\n",
    "\n",
    "            svg.selectAll(\"g.x.axis\")\n",
    "                .call(d3.axisBottom(x));\n",
    "        }\n",
    "\n",
    "        // DATA JOIN\n",
    "        // Join new data with old elements, if any.\n",
    "\n",
    "        var bars = svg.selectAll(\".bar\")\n",
    "            .data(data);\n",
    "\n",
    "        // UPDATE\n",
    "        // Update old elements as needed.\n",
    "\n",
    "        bars\n",
    "            .attr(\"style\",function(d) { return \"fill:\" + d3.schemeCategory10[species_list.indexOf(d.species)];})\n",
    "            .attr(\"x\", function(d, i) { return x(i); })\n",
    "            .attr(\"width\", x.bandwidth())\n",
    "            .transition()\n",
    "            .duration(100)\n",
    "            .attr(\"y\", function(d) { return y(d.petal_length); })\n",
    "            .attr(\"height\", function(d) { return svg_height - y(d.petal_length); });\n",
    "\n",
    "        // ENTER + UPDATE\n",
    "        // After merging the entered elements with the update selection,\n",
    "        // apply operations to both.\n",
    "\n",
    "        bars.enter().append(\"rect\")\n",
    "            .attr(\"class\", \"bar\")\n",
    "            .attr(\"style\",function(d) { return \"fill:\" + d3.schemeCategory10[species_list.indexOf(d.species)];})\n",
    "            .attr(\"x\", function(d, i) { return x(i); })\n",
    "            .attr(\"width\", x.bandwidth())\n",
    "            .attr(\"y\", function(d) { return y(d.petal_length); })\n",
    "            .attr(\"height\", function(d) { return svg_height - y(d.petal_length); })\n",
    "            .merge(bars);\n",
    "\n",
    "        // EXIT\n",
    "        // Remove old elements as needed.\n",
    "\n",
    "        bars.exit().remove();\n",
    "\n",
    "    };\n",
    "});\n",
    "\"\"\")"
   ]
  },
  {
   "cell_type": "code",
   "execution_count": 6,
   "id": "88de010c-8981-4d1d-8408-c32878afdb96",
   "metadata": {},
   "outputs": [
    {
     "data": {
      "text/html": [
       "\n",
       "<style>\n",
       "\n",
       ".axis {\n",
       "  font: 12px sans-serif;\n",
       "}\n",
       "\n",
       "</style>\n",
       "<div id='svg_container' class=\"\"></div>\n"
      ],
      "text/plain": [
       "<IPython.core.display.HTML object>"
      ]
     },
     "execution_count": 6,
     "metadata": {},
     "output_type": "execute_result"
    }
   ],
   "source": [
    "HTML(\"\"\"\n",
    "<style>\n",
    "\n",
    ".axis {\n",
    "  font: 12px sans-serif;\n",
    "}\n",
    "\n",
    "</style>\n",
    "<div id='svg_container' class=\"\"></div>\n",
    "\"\"\")"
   ]
  },
  {
   "cell_type": "code",
   "execution_count": 7,
   "id": "d035f166-645c-4f61-824b-a7d63effb5a1",
   "metadata": {},
   "outputs": [
    {
     "data": {
      "application/javascript": [
       "\n",
       "require([\"d3\"], function(d3) {\n",
       "    updater([{\"sepal_length\": 6.3, \"sepal_width\": 2.8, \"petal_length\": 5.1, \"petal_width\": 1.5, \"species\": \"virginica\"}, {\"sepal_length\": 4.9, \"sepal_width\": 2.4, \"petal_length\": 3.3, \"petal_width\": 1.0, \"species\": \"versicolor\"}, {\"sepal_length\": 5.7, \"sepal_width\": 3.8, \"petal_length\": 1.7, \"petal_width\": 0.3, \"species\": \"setosa\"}, {\"sepal_length\": 6.7, \"sepal_width\": 3.1, \"petal_length\": 4.4, \"petal_width\": 1.4, \"species\": \"versicolor\"}, {\"sepal_length\": 6.1, \"sepal_width\": 2.9, \"petal_length\": 4.7, \"petal_width\": 1.4, \"species\": \"versicolor\"}, {\"sepal_length\": 6.7, \"sepal_width\": 2.5, \"petal_length\": 5.8, \"petal_width\": 1.8, \"species\": \"virginica\"}, {\"sepal_length\": 6.2, \"sepal_width\": 2.9, \"petal_length\": 4.3, \"petal_width\": 1.3, \"species\": \"versicolor\"}, {\"sepal_length\": 4.4, \"sepal_width\": 3.2, \"petal_length\": 1.3, \"petal_width\": 0.2, \"species\": \"setosa\"}, {\"sepal_length\": 5.7, \"sepal_width\": 2.9, \"petal_length\": 4.2, \"petal_width\": 1.3, \"species\": \"versicolor\"}, {\"sepal_length\": 5.1, \"sepal_width\": 2.5, \"petal_length\": 3.0, \"petal_width\": 1.1, \"species\": \"versicolor\"}])\n",
       "});\n"
      ],
      "text/plain": [
       "<IPython.core.display.Javascript object>"
      ]
     },
     "execution_count": 7,
     "metadata": {},
     "output_type": "execute_result"
    }
   ],
   "source": [
    "record_set = json.dumps(iris.sample(10).to_dict(orient='records'))\n",
    "\n",
    "Javascript(\"\"\"\n",
    "require([\"d3\"], function(d3) {{\n",
    "    updater({})\n",
    "}});\n",
    "\"\"\".format(record_set))"
   ]
  },
  {
   "cell_type": "code",
   "execution_count": 13,
   "id": "674a52d0-cd51-4903-ade2-c7e6f701ffef",
   "metadata": {},
   "outputs": [
    {
     "data": {
      "application/javascript": [
       "\n",
       "require([\"d3\"], function(d3) {\n",
       "  window.d3 = d3;\n",
       "});\n",
       "console.log(d3);\n"
      ],
      "text/plain": [
       "<IPython.core.display.Javascript object>"
      ]
     },
     "execution_count": 13,
     "metadata": {},
     "output_type": "execute_result"
    }
   ],
   "source": [
    "Javascript(\"\"\"\n",
    "require([\"d3\"], function(d3) {\n",
    "  window.d3 = d3;\n",
    "});\n",
    "\"\"\")\n"
   ]
  },
  {
   "cell_type": "code",
   "execution_count": null,
   "id": "aca4054c-e8ee-422c-bf6a-0051752051da",
   "metadata": {
    "scrolled": true
   },
   "outputs": [],
   "source": [
    "!pip install seaborn"
   ]
  },
  {
   "cell_type": "code",
   "execution_count": null,
   "id": "1d13b209-a798-448d-a4cd-dae8e6403011",
   "metadata": {},
   "outputs": [],
   "source": []
  }
 ],
 "metadata": {
  "kernelspec": {
   "display_name": "Python 3 (ipykernel)",
   "language": "python",
   "name": "python3"
  },
  "language_info": {
   "codemirror_mode": {
    "name": "ipython",
    "version": 3
   },
   "file_extension": ".py",
   "mimetype": "text/x-python",
   "name": "python",
   "nbconvert_exporter": "python",
   "pygments_lexer": "ipython3",
   "version": "3.9.16"
  }
 },
 "nbformat": 4,
 "nbformat_minor": 5
}

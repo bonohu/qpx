{
 "cells": [
  {
   "cell_type": "markdown",
   "id": "d9997ec5-2d8e-4239-8ec0-66758733d8c5",
   "metadata": {},
   "source": [
    "Jupyter notebook環境では 下記のようにscriptタグに記述してd3.v3.jsを読み込むことができる。\n",
    "しかしd3.v4やv5は同様の方法では読み込むことができなかった。"
   ]
  },
  {
   "cell_type": "code",
   "execution_count": 5,
   "id": "e3a3fef8-4771-4d93-b4fb-19dc86dae959",
   "metadata": {},
   "outputs": [
    {
     "data": {
      "text/html": [
       "\n",
       "<script src=\"https://d3js.org/d3.v3.js\"></script>\n",
       "\n",
       "<script>\n",
       "console.log(d3);\n",
       "</script>\n"
      ],
      "text/plain": [
       "<IPython.core.display.HTML object>"
      ]
     },
     "metadata": {},
     "output_type": "display_data"
    }
   ],
   "source": [
    "from IPython.display import HTML, display\n",
    "\n",
    "display(HTML(\"\"\"\n",
    "<script src=\"https://d3js.org/d3.v3.js\"></script>\n",
    "\n",
    "<script>\n",
    "console.log(d3);\n",
    "</script>\n",
    "\"\"\"))"
   ]
  },
  {
   "cell_type": "code",
   "execution_count": 3,
   "id": "45f8bd0c-b915-40b9-9f4c-98a54be32437",
   "metadata": {},
   "outputs": [
    {
     "data": {
      "text/html": [
       "\n",
       "<script src=\"https://d3js.org/d3.v4.js\"></script>\n",
       "\n",
       "<script>\n",
       "console.log(d3);\n",
       "</script>\n"
      ],
      "text/plain": [
       "<IPython.core.display.HTML object>"
      ]
     },
     "metadata": {},
     "output_type": "display_data"
    }
   ],
   "source": [
    "from IPython.display import HTML, display\n",
    "\n",
    "display(HTML(\"\"\"\n",
    "<script src=\"https://d3js.org/d3.v4.js\"></script>\n",
    "\n",
    "<script>\n",
    "console.log(d3);\n",
    "</script>\n",
    "\"\"\"))"
   ]
  },
  {
   "cell_type": "code",
   "execution_count": 2,
   "id": "258f77ae-8e30-41b3-9c79-eaae8d4275bc",
   "metadata": {},
   "outputs": [
    {
     "data": {
      "text/html": [
       "\n",
       "<script src=\"https://cdnjs.cloudflare.com/ajax/libs/d3/5.0.0/d3.min.js\"></script>\n",
       "\n",
       "<script>\n",
       "console.log(d3);\n",
       "</script>\n"
      ],
      "text/plain": [
       "<IPython.core.display.HTML object>"
      ]
     },
     "metadata": {},
     "output_type": "display_data"
    }
   ],
   "source": [
    "from IPython.display import HTML, display\n",
    "display(HTML(\"\"\"\n",
    "<script src=\"https://cdnjs.cloudflare.com/ajax/libs/d3/5.0.0/d3.min.js\"></script>\n",
    "\n",
    "<script>\n",
    "console.log(d3);\n",
    "</script>\n",
    "\"\"\"))"
   ]
  },
  {
   "cell_type": "code",
   "execution_count": 1,
   "id": "8bd284f8-7eee-44be-b584-b86802b7593a",
   "metadata": {},
   "outputs": [],
   "source": [
    "from IPython.display import Javascript"
   ]
  },
  {
   "cell_type": "code",
   "execution_count": 3,
   "id": "b6555b3b-9133-4ef8-8233-74a77989c06d",
   "metadata": {},
   "outputs": [
    {
     "data": {
      "application/javascript": [
       "    var script = document.createElement('script');\n",
       "    script.type = 'text/javascript';\n",
       "    script.src = '//cdnjs.cloudflare.com/ajax/libs/d3/4.13.0/d3.js';\n",
       "    document.head.appendChild(script);\n",
       "    console.log(window.d3)\n"
      ],
      "text/plain": [
       "<IPython.core.display.Javascript object>"
      ]
     },
     "metadata": {},
     "output_type": "display_data"
    }
   ],
   "source": [
    "%%javascript\n",
    "    var script = document.createElement('script');\n",
    "    script.type = 'text/javascript';\n",
    "    script.src = '//cdnjs.cloudflare.com/ajax/libs/d3/4.13.0/d3.js';\n",
    "    document.head.appendChild(script);\n",
    "    console.log(window.d3)"
   ]
  },
  {
   "cell_type": "code",
   "execution_count": null,
   "id": "9861f233-b189-4ee2-89fa-bf58b003a324",
   "metadata": {},
   "outputs": [],
   "source": []
  }
 ],
 "metadata": {
  "kernelspec": {
   "display_name": "Python 3 (ipykernel)",
   "language": "python",
   "name": "python3"
  },
  "language_info": {
   "codemirror_mode": {
    "name": "ipython",
    "version": 3
   },
   "file_extension": ".py",
   "mimetype": "text/x-python",
   "name": "python",
   "nbconvert_exporter": "python",
   "pygments_lexer": "ipython3",
   "version": "3.9.16"
  }
 },
 "nbformat": 4,
 "nbformat_minor": 5
}

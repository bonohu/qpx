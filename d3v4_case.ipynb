{
 "cells": [
  {
   "cell_type": "markdown",
   "id": "2a2e9c80",
   "metadata": {},
   "source": [
    "#  Jupyter notebookのnbclassic環境でのd3.js(v4)の利用\n",
    "\n",
    "- d3v4以降を利用する場合notebookではrequire.configを記述する必要がある（Labは直接読み込むことができる）\n",
    "- classicモードはpip install nbclassicしてインストールした\n",
    "- notebook v7だがclassicモードではIPython.notebook.kernelを利用してJSからPythonの関数（ここではnode_on_click）を呼び出すことができる\n",
    "- ブラウザは localhost:8888/nbclassic/notebook/test_load_d3js2.ipynbのようにclassicモードを指定して開く必要がある\n",
    "- seabornでd=sns.load_dataset(), d.sample() のようにPython側で実行することで関連するデータを表示することを想定している(sampleはdfの機能)\n",
    "- 何度も再描画していると実行できなくなることがある"
   ]
  },
  {
   "cell_type": "code",
   "execution_count": 15,
   "id": "e498587a-4f83-4ab1-adb5-e21381a894b1",
   "metadata": {},
   "outputs": [],
   "source": [
    "from IPython.display import display,Javascript,HTML\n",
    "import json\n",
    "import seaborn as sns\n",
    "import pandas"
   ]
  },
  {
   "cell_type": "code",
   "execution_count": 17,
   "id": "a06e7289",
   "metadata": {},
   "outputs": [
    {
     "data": {
      "text/html": [
       "<div>\n",
       "<style scoped>\n",
       "    .dataframe tbody tr th:only-of-type {\n",
       "        vertical-align: middle;\n",
       "    }\n",
       "\n",
       "    .dataframe tbody tr th {\n",
       "        vertical-align: top;\n",
       "    }\n",
       "\n",
       "    .dataframe thead th {\n",
       "        text-align: right;\n",
       "    }\n",
       "</style>\n",
       "<table border=\"1\" class=\"dataframe\">\n",
       "  <thead>\n",
       "    <tr style=\"text-align: right;\">\n",
       "      <th></th>\n",
       "      <th>sepal_length</th>\n",
       "      <th>sepal_width</th>\n",
       "      <th>petal_length</th>\n",
       "      <th>petal_width</th>\n",
       "      <th>species</th>\n",
       "    </tr>\n",
       "  </thead>\n",
       "  <tbody>\n",
       "    <tr>\n",
       "      <th>56</th>\n",
       "      <td>6.3</td>\n",
       "      <td>3.3</td>\n",
       "      <td>4.7</td>\n",
       "      <td>1.6</td>\n",
       "      <td>versicolor</td>\n",
       "    </tr>\n",
       "    <tr>\n",
       "      <th>1</th>\n",
       "      <td>4.9</td>\n",
       "      <td>3.0</td>\n",
       "      <td>1.4</td>\n",
       "      <td>0.2</td>\n",
       "      <td>setosa</td>\n",
       "    </tr>\n",
       "    <tr>\n",
       "      <th>6</th>\n",
       "      <td>4.6</td>\n",
       "      <td>3.4</td>\n",
       "      <td>1.4</td>\n",
       "      <td>0.3</td>\n",
       "      <td>setosa</td>\n",
       "    </tr>\n",
       "    <tr>\n",
       "      <th>140</th>\n",
       "      <td>6.7</td>\n",
       "      <td>3.1</td>\n",
       "      <td>5.6</td>\n",
       "      <td>2.4</td>\n",
       "      <td>virginica</td>\n",
       "    </tr>\n",
       "  </tbody>\n",
       "</table>\n",
       "</div>"
      ],
      "text/plain": [
       "     sepal_length  sepal_width  petal_length  petal_width     species\n",
       "56            6.3          3.3           4.7          1.6  versicolor\n",
       "1             4.9          3.0           1.4          0.2      setosa\n",
       "6             4.6          3.4           1.4          0.3      setosa\n",
       "140           6.7          3.1           5.6          2.4   virginica"
      ]
     },
     "execution_count": 17,
     "metadata": {},
     "output_type": "execute_result"
    }
   ],
   "source": [
    "iris = sns.load_dataset('iris')\n",
    "iris.sample(4)"
   ]
  },
  {
   "cell_type": "code",
   "execution_count": 25,
   "id": "a9e1ad02",
   "metadata": {},
   "outputs": [],
   "source": [
    "def node_on_click():\n",
    "    iris.sample(10)\n",
    "    test_var = 10\n",
    "    print(\"???\")"
   ]
  },
  {
   "cell_type": "code",
   "execution_count": 26,
   "id": "80547013-b8f0-48c9-8554-da3bbaeea611",
   "metadata": {},
   "outputs": [
    {
     "data": {
      "application/javascript": [
       "\n",
       "require.config({\n",
       "    paths: {\n",
       "        d3: \"https://d3js.org/d3.v4.min\"\n",
       "    }\n",
       "});\n",
       "\n",
       "\n",
       "require([\"d3\"], function(d3) {\n",
       "\n",
       "        window.drawg = function() {\n",
       "\n",
       "                var svg_margin = { top: 20, right: 20, bottom: 20, left: 40 };\n",
       "                var svg_width = 960 - svg_margin.left - svg_margin.right;\n",
       "                var svg_height = 300 - svg_margin.top - svg_margin.bottom;\n",
       "\n",
       "\n",
       "                window.svg = d3.select(\"#svg_container\").append(\"svg\")\n",
       "                                .attr(\"width\", svg_width + svg_margin.left + svg_margin.right)\n",
       "                                .attr(\"height\", svg_height + svg_margin.top + svg_margin.bottom)\n",
       "                                .append(\"g\")\n",
       "                                .attr(\"transform\",\n",
       "                                    \"translate(\" + svg_margin.left + \",\" + svg_margin.top + \")\");\n",
       "\n",
       "                var node_width = 80;\n",
       "                var node_height = 30;\n",
       "                var nodes = [[20, 20],[120,150],[150, 100]]\n",
       "                var links = [[[20, 20],[120,150]],[[120,150],[150, 100]]]\n",
       "\n",
       "                svg.selectAll(\"line\")\n",
       "                    .data(links)\n",
       "                    .enter().append(\"line\")\n",
       "                    .attr(\"x1\", function(d,i){return d[0][0] + node_width/2})\n",
       "                    .attr(\"y1\", function(d,i){return d[0][1] + node_height/2})\n",
       "                    .attr(\"x2\", function(d,i){return d[1][0] + node_width/2})\n",
       "                    .attr(\"y2\", function(d,i){return d[1][1] + node_height/2})   \n",
       "                    .attr('stroke', 'black')\n",
       "                    .attr('fill', 'none');\n",
       "\n",
       "                svg.selectAll(\"rect\")\n",
       "                    .data(nodes)\n",
       "                    .enter().append(\"rect\")\n",
       "                    .attr(\"x\", (d) => d[0])\n",
       "                    .attr(\"y\", (d) => d[1])\n",
       "                    .attr(\"width\", node_width)\n",
       "                    .attr(\"height\", node_height)\n",
       "                    .attr(\"fill\", \"white\")\n",
       "                    .style(\"stroke\", \"green\")\n",
       "                    .on(\"click\", testtest);\n",
       "\n",
       "        };\n",
       "\n",
       "        function testtest(){\n",
       "            var kernel = Jupyter.notebook.kernel;\n",
       "            kernel.execute('node_on_click()');\n",
       "        }\n",
       "        \n",
       "});\n"
      ],
      "text/plain": [
       "<IPython.core.display.Javascript object>"
      ]
     },
     "execution_count": 26,
     "metadata": {},
     "output_type": "execute_result"
    }
   ],
   "source": [
    "Javascript(\"\"\"\n",
    "require.config({\n",
    "    paths: {\n",
    "        d3: \"https://d3js.org/d3.v4.min\"\n",
    "    }\n",
    "});\n",
    "\n",
    "\n",
    "require([\"d3\"], function(d3) {\n",
    "\n",
    "        window.drawg = function() {\n",
    "\n",
    "                var svg_margin = { top: 20, right: 20, bottom: 20, left: 40 };\n",
    "                var svg_width = 960 - svg_margin.left - svg_margin.right;\n",
    "                var svg_height = 300 - svg_margin.top - svg_margin.bottom;\n",
    "\n",
    "\n",
    "                window.svg = d3.select(\"#svg_container\").append(\"svg\")\n",
    "                                .attr(\"width\", svg_width + svg_margin.left + svg_margin.right)\n",
    "                                .attr(\"height\", svg_height + svg_margin.top + svg_margin.bottom)\n",
    "                                .append(\"g\")\n",
    "                                .attr(\"transform\",\n",
    "                                    \"translate(\" + svg_margin.left + \",\" + svg_margin.top + \")\");\n",
    "\n",
    "                var node_width = 80;\n",
    "                var node_height = 30;\n",
    "                var nodes = [[20, 20],[120,150],[150, 100]]\n",
    "                var links = [[[20, 20],[120,150]],[[120,150],[150, 100]]]\n",
    "\n",
    "                svg.selectAll(\"line\")\n",
    "                    .data(links)\n",
    "                    .enter().append(\"line\")\n",
    "                    .attr(\"x1\", function(d,i){return d[0][0] + node_width/2})\n",
    "                    .attr(\"y1\", function(d,i){return d[0][1] + node_height/2})\n",
    "                    .attr(\"x2\", function(d,i){return d[1][0] + node_width/2})\n",
    "                    .attr(\"y2\", function(d,i){return d[1][1] + node_height/2})   \n",
    "                    .attr('stroke', 'black')\n",
    "                    .attr('fill', 'none');\n",
    "\n",
    "                svg.selectAll(\"rect\")\n",
    "                    .data(nodes)\n",
    "                    .enter().append(\"rect\")\n",
    "                    .attr(\"x\", (d) => d[0])\n",
    "                    .attr(\"y\", (d) => d[1])\n",
    "                    .attr(\"width\", node_width)\n",
    "                    .attr(\"height\", node_height)\n",
    "                    .attr(\"fill\", \"white\")\n",
    "                    .style(\"stroke\", \"green\")\n",
    "                    .on(\"click\", testtest);\n",
    "\n",
    "        };\n",
    "\n",
    "        function testtest(){\n",
    "            var kernel = Jupyter.notebook.kernel;\n",
    "            kernel.execute('node_on_click()');\n",
    "        }\n",
    "        \n",
    "});\n",
    "\"\"\")"
   ]
  },
  {
   "cell_type": "code",
   "execution_count": 27,
   "id": "7e0c0fb4",
   "metadata": {},
   "outputs": [
    {
     "data": {
      "text/html": [
       "\n",
       "<style>\n",
       "\n",
       "</style>\n",
       "<div id='svg_container' class=\"\"></div>\n"
      ],
      "text/plain": [
       "<IPython.core.display.HTML object>"
      ]
     },
     "execution_count": 27,
     "metadata": {},
     "output_type": "execute_result"
    }
   ],
   "source": [
    "HTML(\"\"\"\n",
    "<style>\n",
    "\n",
    "</style>\n",
    "<div id='svg_container' class=\"\"></div>\n",
    "\"\"\")"
   ]
  },
  {
   "cell_type": "code",
   "execution_count": 28,
   "id": "d472ed5c-b170-46bd-ab10-d55bced26bc2",
   "metadata": {},
   "outputs": [
    {
     "data": {
      "application/javascript": [
       "\n",
       "require([\"d3\"], function(d3) {{\n",
       "    drawg()\n",
       "}});\n"
      ],
      "text/plain": [
       "<IPython.core.display.Javascript object>"
      ]
     },
     "execution_count": 28,
     "metadata": {},
     "output_type": "execute_result"
    }
   ],
   "source": [
    "Javascript(\"\"\"\n",
    "require([\"d3\"], function(d3) {{\n",
    "    drawg()\n",
    "}});\n",
    "\"\"\")"
   ]
  },
  {
   "cell_type": "code",
   "execution_count": 29,
   "id": "540e239a",
   "metadata": {},
   "outputs": [
    {
     "ename": "NameError",
     "evalue": "name 'test_var' is not defined",
     "output_type": "error",
     "traceback": [
      "\u001b[0;31m---------------------------------------------------------------------------\u001b[0m",
      "\u001b[0;31mNameError\u001b[0m                                 Traceback (most recent call last)",
      "Cell \u001b[0;32mIn[29], line 1\u001b[0m\n\u001b[0;32m----> 1\u001b[0m \u001b[43mtest_var\u001b[49m\n",
      "\u001b[0;31mNameError\u001b[0m: name 'test_var' is not defined"
     ]
    }
   ],
   "source": [
    "test_var"
   ]
  },
  {
   "cell_type": "code",
   "execution_count": null,
   "id": "c8f0aada",
   "metadata": {},
   "outputs": [],
   "source": []
  }
 ],
 "metadata": {
  "kernelspec": {
   "display_name": "Python 3 (ipykernel)",
   "language": "python",
   "name": "python3"
  },
  "language_info": {
   "codemirror_mode": {
    "name": "ipython",
    "version": 3
   },
   "file_extension": ".py",
   "mimetype": "text/x-python",
   "name": "python",
   "nbconvert_exporter": "python",
   "pygments_lexer": "ipython3",
   "version": "3.9.16"
  }
 },
 "nbformat": 4,
 "nbformat_minor": 5
}

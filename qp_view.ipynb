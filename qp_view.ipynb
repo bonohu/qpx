{
 "cells": [
  {
   "cell_type": "markdown",
   "id": "d43382ac",
   "metadata": {},
   "source": [
    "# About\n",
    "本ノートブックは、以下の機能を提供します\n",
    "* GPMLファイルに記載されたパスウェイを可視化\n",
    "* パスウェイ上の遺伝子（ノード）がクリックされた際に、その遺伝子に関する情報をtsvファイルから検索後、pandasデータフレームとして取得"
   ]
  },
  {
   "cell_type": "code",
   "execution_count": null,
   "id": "2d8d762d",
   "metadata": {},
   "outputs": [],
   "source": [
    "# *.gpml ファイルが配置されているディレクトリのパス\n",
    "gpml_dir_path = './gpml'\n",
    "# 遺伝子情報が記述されたTSVファイル\n",
    "gene_data_path = 'qp_mock_data.tsv'"
   ]
  },
  {
   "cell_type": "code",
   "execution_count": null,
   "id": "202a7ce5",
   "metadata": {},
   "outputs": [],
   "source": [
    "# このセルを実行すると、GPMLに記述されたパスウェイが可視化されます。GPMLファイルを変更することで、別のパスウェイを可視化することもできます。\n",
    "# このセルは編集しないでください。\n",
    "from src.qp import GpmlD3Visualizer\n",
    "\n",
    "visualizer_widget = GpmlD3Visualizer(gpml_dir_path=gpml_dir_path, gene_data_path=gene_data_path)\n",
    "visualizer_widget.show()"
   ]
  },
  {
   "cell_type": "code",
   "execution_count": null,
   "id": "8de2d9f8",
   "metadata": {},
   "outputs": [],
   "source": [
    "# このセルは編集や実行をしないでください。\n",
    "# ノードをクリックした時に自動実行されるセルです。\n",
    "df = visualizer_widget.table(gid)\n",
    "df"
   ]
  }
 ],
 "metadata": {
  "kernelspec": {
   "display_name": "Python 3 (ipykernel)",
   "language": "python",
   "name": "python3"
  },
  "language_info": {
   "codemirror_mode": {
    "name": "ipython",
    "version": 3
   },
   "file_extension": ".py",
   "mimetype": "text/x-python",
   "name": "python",
   "nbconvert_exporter": "python",
   "pygments_lexer": "ipython3"
  }
 },
 "nbformat": 4,
 "nbformat_minor": 5
}

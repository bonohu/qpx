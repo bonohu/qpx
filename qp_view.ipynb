{
 "cells": [
  {
   "cell_type": "markdown",
   "id": "d43382ac",
   "metadata": {},
   "source": [
    "# About\n",
    "本ノートブックは、以下の機能を提供します\n",
    "* ./gpml フォルダに配置されているGPMLファイルに記載されたパスウェイを可視化\n",
    "* パスウェイ上の遺伝子（ノード）がクリックされた際に、その遺伝子に関する情報を表示"
   ]
  },
  {
   "cell_type": "code",
   "execution_count": null,
   "id": "2d8d762d",
   "metadata": {},
   "outputs": [],
   "source": [
    "# 遺伝子情報が記述されたTSVファイルを指定\n",
    "# gene_data_path = 'qp_mock_data.tsv'\n",
    "gene_data_path ='data/red_perilla_anthocyanin_test.tsv'"
   ]
  },
  {
   "cell_type": "markdown",
   "id": "ae6f137c",
   "metadata": {},
   "source": [
    "**以下のセルは、モジュールの可視化のために必要なので編集しないでください。**"
   ]
  },
  {
   "cell_type": "code",
   "execution_count": null,
   "id": "5c592c56",
   "metadata": {},
   "outputs": [],
   "source": [
    "%%HTML\n",
    "<script src=\"src/templates/pathway_d3_view_widget.js\"></script>"
   ]
  },
  {
   "cell_type": "code",
   "execution_count": null,
   "id": "202a7ce5",
   "metadata": {
    "scrolled": false
   },
   "outputs": [],
   "source": [
    "# このセルを実行すると、GPMLに記述されたパスウェイが可視化されます。GPMLファイルを変更することで、別のパスウェイを可視化することもできます。\n",
    "from src.qp import GpmlD3Visualizer\n",
    "\n",
    "visualizer_widget = GpmlD3Visualizer(gene_data_path=gene_data_path)\n",
    "visualizer_widget.show()"
   ]
  },
  {
   "cell_type": "markdown",
   "id": "203f6b27",
   "metadata": {},
   "source": [
    "選択した遺伝子に関する情報は、visualizer_widget.selected_gene_data を参照することでデータフレームとして取得できます"
   ]
  },
  {
   "cell_type": "code",
   "execution_count": null,
   "id": "46e6fd53",
   "metadata": {
    "scrolled": true
   },
   "outputs": [],
   "source": [
    "df = visualizer_widget.selected_gene_data\n",
    "df"
   ]
  },
  {
   "cell_type": "code",
   "execution_count": null,
   "id": "8fb0b98b",
   "metadata": {},
   "outputs": [],
   "source": []
  }
 ],
 "metadata": {
  "kernelspec": {
   "display_name": "Python 3 (ipykernel)",
   "language": "python",
   "name": "python3"
  },
  "language_info": {
   "codemirror_mode": {
    "name": "ipython",
    "version": 3
   },
   "file_extension": ".py",
   "mimetype": "text/x-python",
   "name": "python",
   "nbconvert_exporter": "python",
   "pygments_lexer": "ipython3",
   "version": "3.9.18"
  }
 },
 "nbformat": 4,
 "nbformat_minor": 5
}

{
 "cells": [
  {
   "cell_type": "code",
   "execution_count": 3,
   "id": "8966fc7f",
   "metadata": {},
   "outputs": [
    {
     "data": {
      "text/html": [
       "<script src=\"https://d3js.org/d3.v3.js\"></script>"
      ],
      "text/plain": [
       "<IPython.core.display.HTML object>"
      ]
     },
     "execution_count": 3,
     "metadata": {},
     "output_type": "execute_result"
    }
   ],
   "source": [
    "from IPython.display import display, HTML\n",
    "from jinja2 import Environment, FileSystemLoader\n",
    "ENV = Environment(loader=FileSystemLoader(\"templates\", encoding='utf-8'))\n",
    "gid= \"\"\n",
    "col_num = 0\n",
    "def init_d3():\n",
    "    # scriptタグで記述する場合はd3.v3まで　それ以降はjsに記述が必要\n",
    "    return HTML('<script src=\"https://d3js.org/d3.v3.js\"></script>')\n",
    "\n",
    "init_d3()"
   ]
  },
  {
   "cell_type": "code",
   "execution_count": 4,
   "id": "9fe904ee",
   "metadata": {
    "scrolled": true
   },
   "outputs": [
    {
     "ename": "AttributeError",
     "evalue": "'SimpleD3' object has no attribute 'data'",
     "output_type": "error",
     "traceback": [
      "\u001b[0;31m---------------------------------------------------------------------------\u001b[0m",
      "\u001b[0;31mAttributeError\u001b[0m                            Traceback (most recent call last)",
      "Cell \u001b[0;32mIn[4], line 3\u001b[0m\n\u001b[1;32m      1\u001b[0m \u001b[38;5;28;01mfrom\u001b[39;00m \u001b[38;5;21;01mqp\u001b[39;00m \u001b[38;5;28;01mimport\u001b[39;00m SimpleD3\n\u001b[1;32m      2\u001b[0m fig \u001b[38;5;241m=\u001b[39m SimpleD3(env\u001b[38;5;241m=\u001b[39mENV)\n\u001b[0;32m----> 3\u001b[0m HTML(\u001b[43mfig\u001b[49m\u001b[38;5;241;43m.\u001b[39;49m\u001b[43mshow\u001b[49m\u001b[43m(\u001b[49m\u001b[43m)\u001b[49m)\n",
      "File \u001b[0;32m~/Dropbox/workspace/sample-project/qp/qp.py:13\u001b[0m, in \u001b[0;36mSimpleD3.show\u001b[0;34m(self, width, height, marker_size)\u001b[0m\n\u001b[1;32m     12\u001b[0m \u001b[38;5;28;01mdef\u001b[39;00m \u001b[38;5;21mshow\u001b[39m(\u001b[38;5;28mself\u001b[39m, width\u001b[38;5;241m=\u001b[39m\u001b[38;5;241m400\u001b[39m, height\u001b[38;5;241m=\u001b[39m\u001b[38;5;241m400\u001b[39m, marker_size\u001b[38;5;241m=\u001b[39m\u001b[38;5;241m6\u001b[39m):\n\u001b[0;32m---> 13\u001b[0m     html \u001b[38;5;241m=\u001b[39m \u001b[38;5;28mself\u001b[39m\u001b[38;5;241m.\u001b[39mtemplate\u001b[38;5;241m.\u001b[39mrender({\u001b[38;5;124m\"\u001b[39m\u001b[38;5;124mDATASET\u001b[39m\u001b[38;5;124m\"\u001b[39m: \u001b[38;5;28;43mself\u001b[39;49m\u001b[38;5;241;43m.\u001b[39;49m\u001b[43mdata\u001b[49m,\n\u001b[1;32m     14\u001b[0m                                  \u001b[38;5;124m\"\u001b[39m\u001b[38;5;124mWIDTH\u001b[39m\u001b[38;5;124m\"\u001b[39m: width,\n\u001b[1;32m     15\u001b[0m                                  \u001b[38;5;124m\"\u001b[39m\u001b[38;5;124mHEIGHT\u001b[39m\u001b[38;5;124m\"\u001b[39m: height,\n\u001b[1;32m     16\u001b[0m                                 \u001b[38;5;124m\"\u001b[39m\u001b[38;5;124mMARKER_SIZE\u001b[39m\u001b[38;5;124m\"\u001b[39m: marker_size})\n\u001b[1;32m     18\u001b[0m     \u001b[38;5;28;01mreturn\u001b[39;00m html\n",
      "\u001b[0;31mAttributeError\u001b[0m: 'SimpleD3' object has no attribute 'data'"
     ]
    }
   ],
   "source": [
    "from qp import SimpleD3\n",
    "fig = SimpleD3(env=ENV)\n",
    "HTML(fig.show())"
   ]
  },
  {
   "cell_type": "code",
   "execution_count": null,
   "id": "8de2d9f8",
   "metadata": {
    "scrolled": false
   },
   "outputs": [],
   "source": [
    "def show_table():\n",
    "    #display(gid)\n",
    "    d = fig.table(gid)\n",
    "    return d\n",
    "\n",
    "show_table()"
   ]
  }
 ],
 "metadata": {
  "kernelspec": {
   "display_name": "Python 3 (ipykernel)",
   "language": "python",
   "name": "python3"
  },
  "language_info": {
   "codemirror_mode": {
    "name": "ipython",
    "version": 3
   },
   "file_extension": ".py",
   "mimetype": "text/x-python",
   "name": "python",
   "nbconvert_exporter": "python",
   "pygments_lexer": "ipython3",
   "version": "3.9.16"
  }
 },
 "nbformat": 4,
 "nbformat_minor": 5
}

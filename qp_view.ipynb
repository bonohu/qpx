{
 "cells": [
  {
   "cell_type": "code",
   "execution_count": null,
   "id": "8966fc7f",
   "metadata": {},
   "outputs": [],
   "source": [
    "from IPython.display import display, HTML, clear_output\n",
    "from jinja2 import Environment, FileSystemLoader\n",
    "ENV = Environment(loader=FileSystemLoader(\"templates\", encoding='utf-8'))\n",
    "gid= \"\"\n",
    "col_num = 0\n",
    "\n",
    "selected_gpml_file = None\n",
    "gpml_dir_path = \"./gpml/\"\n",
    "fig = None"
   ]
  },
  {
   "cell_type": "code",
   "execution_count": null,
   "id": "3c4e693e",
   "metadata": {},
   "outputs": [],
   "source": [
    "from ipywidgets import widgets\n",
    "from src.qp import GpmlD3Visualizer\n",
    "import glob\n",
    "import os\n",
    "\n",
    "def get_gpml_files():\n",
    "    gpml_files = glob.glob(\"{}/*.gpml\".format(gpml_dir_path))\n",
    "    gpml_files = [os.path.basename(gpml_file) for gpml_file in gpml_files]\n",
    "    return gpml_files\n",
    "\n",
    "dropdown = widgets.Dropdown(\n",
    " options=get_gpml_files(),\n",
    " value=selected_gpml_file,\n",
    " style={'width': 'max-content'},\n",
    ")\n",
    "\n",
    "w = widgets.Box(\n",
    "    [\n",
    "        widgets.Label(value='Select GPML file:'), \n",
    "        dropdown\n",
    "    ]       \n",
    ")\n",
    "\n",
    "\n",
    "def on_change(change):\n",
    "    global selected_gpml_file\n",
    "    global fig\n",
    "    if change['type'] == 'change' and change['name'] == 'value':\n",
    "        selected_gpml_file = change['new']\n",
    "        fig = GpmlD3Visualizer(template=ENV.get_template('pathway_by_d3.html'), gpml=os.path.join(gpml_dir_path, selected_gpml_file))\n",
    "        clear_output(wait=True)\n",
    "        display(w)\n",
    "        display(HTML(fig.show()))\n",
    "\n",
    "dropdown.observe(on_change)\n",
    "\n",
    "display(w)"
   ]
  },
  {
   "cell_type": "code",
   "execution_count": null,
   "id": "8de2d9f8",
   "metadata": {},
   "outputs": [],
   "source": [
    "# Do not edit this Cell. This cell is for auto-execution\n",
    "df = fig.table(gid)\n",
    "df"
   ]
  }
 ],
 "metadata": {
  "kernelspec": {
   "display_name": "Python 3 (ipykernel)",
   "language": "python",
   "name": "python3"
  },
  "language_info": {
   "codemirror_mode": {
    "name": "ipython",
    "version": 3
   },
   "file_extension": ".py",
   "mimetype": "text/x-python",
   "name": "python",
   "nbconvert_exporter": "python",
   "pygments_lexer": "ipython3",
   "version": "3.11.6"
  }
 },
 "nbformat": 4,
 "nbformat_minor": 5
}

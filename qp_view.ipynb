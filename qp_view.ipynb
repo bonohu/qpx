{
 "cells": [
  {
   "cell_type": "code",
   "execution_count": null,
   "id": "8966fc7f",
   "metadata": {},
   "outputs": [],
   "source": [
    "from IPython.display import display, HTML\n",
    "from jinja2 import Environment, FileSystemLoader\n",
    "ENV = Environment(loader=FileSystemLoader(\"templates\", encoding='utf-8'))\n",
    "gid= \"\"\n",
    "col_num = 0\n",
    "def init_d3():\n",
    "    # scriptタグで記述する場合はd3.v3まで　それ以降はjsに記述が必要\n",
    "    return HTML('<script src=\"https://d3js.org/d3.v3.js\"></script>')\n",
    "\n",
    "init_d3()"
   ]
  },
  {
   "cell_type": "code",
   "execution_count": null,
   "id": "9fe904ee",
   "metadata": {},
   "outputs": [],
   "source": [
    "from src.qp import GpmlD3Visualizer\n",
    "fig = GpmlD3Visualizer(template=ENV.get_template('pathway_by_d3.html'), gpml=\"tests/data/WP459.gpml\")\n",
    "HTML(fig.show())"
   ]
  },
  {
   "cell_type": "code",
   "execution_count": null,
   "id": "8de2d9f8",
   "metadata": {},
   "outputs": [],
   "source": [
    "# Do not edit this Cell. This cell is for auto-execution\n",
    "fig.table(gid)"
   ]
  },
  {
   "cell_type": "code",
   "execution_count": null,
   "id": "a6cdcf1a",
   "metadata": {},
   "outputs": [],
   "source": []
  }
 ],
 "metadata": {
  "kernelspec": {
   "display_name": "Python 3 (ipykernel)",
   "language": "python",
   "name": "python3"
  },
  "language_info": {
   "codemirror_mode": {
    "name": "ipython",
    "version": 3
   },
   "file_extension": ".py",
   "mimetype": "text/x-python",
   "name": "python",
   "nbconvert_exporter": "python",
   "pygments_lexer": "ipython3"
  }
 },
 "nbformat": 4,
 "nbformat_minor": 5
}
